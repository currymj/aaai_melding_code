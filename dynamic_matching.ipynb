{
 "cells": [
  {
   "cell_type": "code",
   "execution_count": 1,
   "metadata": {},
   "outputs": [],
   "source": [
    "%matplotlib inline\n",
    "\n",
    "import torch\n",
    "import torch.nn as nn\n",
    "import random\n",
    "import numpy as np\n",
    "from qpthlocal.qp import QPFunction\n",
    "from qpthlocal.qp import QPSolvers\n",
    "from qpthlocal.qp import make_gurobi_model\n",
    "import pickle\n",
    "import argparse\n",
    "import matplotlib.pyplot as plt\n",
    "from tqdm import tqdm_notebook as tqdm"
   ]
  },
  {
   "cell_type": "code",
   "execution_count": 2,
   "metadata": {},
   "outputs": [],
   "source": [
    "def make_matching_matrix(n):\n",
    "    \n",
    "    # n is num elements?\n",
    "    lhs = list(range(n))\n",
    "    rhs = list(range(n, 2*n))\n",
    "    \n",
    "    # n_vars is 1 per possible edge?\n",
    "    n_vars = len(lhs)*len(rhs)\n",
    "    # n_constraints is 1 for each lhs, 1 for each rhs, 1 per edge?\n",
    "    n_constraints = len(lhs) + len(rhs) + n_vars\n",
    "    A = np.zeros((n_constraints, n_vars))\n",
    "    b = np.zeros((n_constraints))\n",
    "    curr_idx = 0\n",
    "    edge_idx = {}\n",
    "    # get an index per edge\n",
    "    for u in lhs:\n",
    "        for v in rhs:\n",
    "            edge_idx[(u,v)] = curr_idx\n",
    "            curr_idx += 1\n",
    "    # A has rows of 2n elements, followed by n^2 edges\n",
    "    # A has cols of n^2 edges (so A @ x where x is edges)\n",
    "    for u in lhs:\n",
    "        for v in rhs:\n",
    "            # for u, flip on coefficient for only its outgoing edges\n",
    "            A[u, edge_idx[(u,v)]] = 1\n",
    "            # for v, flip on coefficient for only its incoming edges\n",
    "            A[v, edge_idx[(u,v)]] = 1\n",
    "            # for the edge itself, flip on a single -1 at its point only\n",
    "            A[len(lhs)+len(rhs)+edge_idx[(u,v)], edge_idx[(u,v)]] = -1\n",
    "    \n",
    "    # each element can have only 1 edge turned on in x\n",
    "    for u in lhs:\n",
    "        b[u] = 1\n",
    "    for u in rhs:\n",
    "        b[u] = 1\n",
    "    \n",
    "    \n",
    "    return A, b\n"
   ]
  },
  {
   "cell_type": "code",
   "execution_count": 3,
   "metadata": {},
   "outputs": [
    {
     "name": "stdout",
     "output_type": "stream",
     "text": [
      "Academic license - for non-commercial use only\n"
     ]
    }
   ],
   "source": [
    "A, b = make_matching_matrix(10)\n",
    "A = torch.from_numpy(A).float()\n",
    "b = torch.from_numpy(b).float()\n",
    "gamma = 0.001\n",
    "model_params_quad = make_gurobi_model(A.detach().numpy(), b.detach().numpy(), None, None, gamma*np.eye(A.shape[1]))\n"
   ]
  },
  {
   "cell_type": "code",
   "execution_count": null,
   "metadata": {},
   "outputs": [],
   "source": []
  },
  {
   "cell_type": "code",
   "execution_count": 4,
   "metadata": {},
   "outputs": [],
   "source": [
    "c_rand = -torch.rand(100, requires_grad=True)"
   ]
  },
  {
   "cell_type": "code",
   "execution_count": 5,
   "metadata": {},
   "outputs": [],
   "source": [
    "func = QPFunction(verbose=False, solver=QPSolvers.GUROBI, model_params=model_params_quad)"
   ]
  },
  {
   "cell_type": "code",
   "execution_count": 6,
   "metadata": {},
   "outputs": [],
   "source": [
    "# Q is gamma * I\n",
    "# we're not batching\n",
    "\n",
    "match = func(gamma*torch.eye(A.shape[1]), c_rand, A, b, torch.Tensor(), torch.Tensor())"
   ]
  },
  {
   "cell_type": "code",
   "execution_count": 7,
   "metadata": {},
   "outputs": [
    {
     "data": {
      "text/plain": [
       "[<matplotlib.lines.Line2D at 0x7efb89b66240>]"
      ]
     },
     "execution_count": 7,
     "metadata": {},
     "output_type": "execute_result"
    },
    {
     "data": {
      "image/png": "[encoded data removed]",
      "text/plain": [
       "<Figure size 432x288 with 1 Axes>"
      ]
     },
     "metadata": {
      "needs_background": "light"
     },
     "output_type": "display_data"
    }
   ],
   "source": [
    "plt.plot(match.detach().numpy().flatten())"
   ]
  },
  {
   "cell_type": "code",
   "execution_count": 8,
   "metadata": {},
   "outputs": [],
   "source": [
    "match.sum().backward()"
   ]
  },
  {
   "cell_type": "markdown",
   "metadata": {},
   "source": [
    "## plan for dynamic setting:\n",
    "- d types\n",
    "- pool of elements curr_elem each with type (n at each time step)\n",
    "- known edge weights between each type (?) e_weight (size n^2, recomputed at each time step)\n",
    "- learned_coeff weights modify known edge weights (weights for each type, effectively pair of types, so d of these)\n",
    "- perform match, true value of match is e_weight * x\n",
    "- remove elements, recreate curr_elem, recreate e_weight\n",
    "\n",
    "some thoughts: encoding type of pool of elements should be either LongTensor or one-hot so can get gradients after indexing\n",
    "\n"
   ]
  },
  {
   "cell_type": "code",
   "execution_count": 9,
   "metadata": {},
   "outputs": [],
   "source": [
    "d=10\n",
    "rand_d_weights = torch.rand(d, requires_grad=True)"
   ]
  },
  {
   "cell_type": "code",
   "execution_count": 10,
   "metadata": {},
   "outputs": [],
   "source": [
    "n = 20\n",
    "rand_types_pool = torch.randint(d,(n,))"
   ]
  },
  {
   "cell_type": "code",
   "execution_count": 11,
   "metadata": {},
   "outputs": [],
   "source": [
    "curr_weights = rand_d_weights[rand_types_pool]"
   ]
  },
  {
   "cell_type": "code",
   "execution_count": 12,
   "metadata": {},
   "outputs": [],
   "source": [
    "rand_e_weight = torch.rand(n,n) # in reality should be based on types (but not on weights)"
   ]
  },
  {
   "cell_type": "code",
   "execution_count": 13,
   "metadata": {},
   "outputs": [],
   "source": [
    "modified_edge_weights = rand_e_weight + 0.5*(torch.unsqueeze(curr_weights,0) + torch.unsqueeze(curr_weights, 1))"
   ]
  },
  {
   "cell_type": "code",
   "execution_count": 14,
   "metadata": {},
   "outputs": [],
   "source": [
    "A, b = make_matching_matrix(n)\n",
    "A = torch.from_numpy(A).float()\n",
    "b = torch.from_numpy(b).float()\n",
    "gamma = 0.0001\n",
    "model_params_quad = make_gurobi_model(A.detach().numpy(), b.detach().numpy(), None, None, gamma*np.eye(A.shape[1]))"
   ]
  },
  {
   "cell_type": "code",
   "execution_count": 15,
   "metadata": {},
   "outputs": [],
   "source": [
    "func = QPFunction(verbose=False, solver=QPSolvers.GUROBI, model_params = model_params_quad)"
   ]
  },
  {
   "cell_type": "code",
   "execution_count": 16,
   "metadata": {},
   "outputs": [],
   "source": [
    "resulting_match = func(gamma*torch.eye(A.shape[1]), -modified_edge_weights.view(-1), A, b, torch.Tensor(), torch.Tensor()).view(20,20)"
   ]
  },
  {
   "cell_type": "code",
   "execution_count": 17,
   "metadata": {},
   "outputs": [
    {
     "data": {
      "text/plain": [
       "tensor([[1.4558, 0.9863, 1.7477, 1.0782, 1.1538, 1.1447, 0.8254, 0.7445, 0.4858,\n",
       "         1.6091, 1.1025, 0.9954, 1.1483, 1.6326, 1.1131, 0.8770, 1.3635, 1.3961,\n",
       "         1.0594, 1.4099],\n",
       "        [1.1465, 0.7498, 1.0893, 0.5792, 0.6657, 1.1253, 1.5595, 1.0322, 0.5284,\n",
       "         0.7414, 0.7796, 0.9755, 1.1351, 1.6758, 0.8242, 1.4176, 1.0123, 0.8485,\n",
       "         1.3153, 1.5049],\n",
       "        [0.8179, 1.1558, 1.8259, 0.7591, 0.5472, 1.5051, 0.9324, 1.3567, 0.9446,\n",
       "         1.7309, 0.8466, 0.9469, 1.2551, 1.0355, 1.6315, 1.4085, 0.8552, 1.0624,\n",
       "         1.0202, 0.8140],\n",
       "        [1.0647, 1.2954, 0.6371, 0.2423, 0.5409, 0.7794, 0.9271, 0.5001, 0.5705,\n",
       "         0.6300, 0.6683, 0.7666, 0.8131, 1.0918, 1.3293, 0.5871, 0.7006, 0.7326,\n",
       "         1.1944, 0.5330],\n",
       "        [0.4447, 0.5172, 0.8585, 0.1394, 0.4473, 0.7035, 0.5682, 1.2667, 0.8162,\n",
       "         0.6281, 0.6932, 0.9213, 1.2182, 1.2398, 1.0565, 0.5215, 0.7625, 0.6063,\n",
       "         0.8151, 0.7605],\n",
       "        [0.4982, 1.1628, 1.3164, 0.5117, 1.1223, 0.3472, 1.3138, 1.3470, 0.7593,\n",
       "         1.4373, 1.4048, 0.9240, 1.0811, 0.9997, 0.7134, 0.8713, 0.6262, 1.2748,\n",
       "         0.7608, 1.1354],\n",
       "        [1.4050, 1.7108, 1.5828, 0.5335, 1.0791, 1.0808, 1.8647, 1.1749, 0.9932,\n",
       "         1.0352, 0.9685, 0.8452, 1.1489, 1.0135, 0.9554, 1.1138, 1.5363, 1.1309,\n",
       "         0.8129, 1.1890],\n",
       "        [0.8067, 1.1542, 0.9371, 0.4302, 0.9011, 0.7558, 1.0071, 0.9214, 0.8333,\n",
       "         0.8627, 0.6480, 1.3942, 0.7604, 0.8238, 0.7639, 1.3045, 0.5939, 1.4635,\n",
       "         0.6694, 0.6979],\n",
       "        [1.0315, 0.5141, 1.3787, 0.1441, 0.5036, 1.1460, 1.0834, 1.1710, 0.2494,\n",
       "         1.3062, 1.2892, 0.9797, 1.4105, 1.4784, 0.7484, 0.4523, 0.8983, 1.3501,\n",
       "         0.5334, 1.3653],\n",
       "        [0.7713, 0.9611, 1.0315, 0.8992, 1.0944, 1.0511, 1.5315, 0.6939, 0.9954,\n",
       "         1.4483, 1.4248, 0.8684, 1.4382, 0.8729, 1.3231, 1.3627, 0.8674, 1.1550,\n",
       "         1.3900, 0.9237],\n",
       "        [0.9206, 0.9046, 0.7796, 0.8848, 1.2091, 1.3822, 0.7982, 1.5210, 0.4496,\n",
       "         0.7205, 1.5106, 1.0490, 1.4180, 1.0238, 1.5158, 0.6632, 1.1990, 1.2554,\n",
       "         1.4605, 1.4177],\n",
       "        [1.4852, 0.7368, 1.2387, 0.8553, 0.8960, 0.9788, 1.4391, 0.7375, 1.1510,\n",
       "         0.9639, 1.2560, 0.9709, 0.9713, 0.9670, 1.4801, 0.7341, 0.5292, 1.6173,\n",
       "         0.9052, 1.1873],\n",
       "        [1.6181, 0.7761, 1.2208, 1.0176, 0.8785, 1.2772, 1.6010, 0.8324, 1.1186,\n",
       "         1.2004, 1.3889, 1.2728, 1.2433, 1.4740, 0.9820, 1.4497, 0.9893, 1.5938,\n",
       "         0.9148, 1.4329],\n",
       "        [1.0247, 1.2711, 1.7761, 1.1722, 0.7866, 1.2178, 1.6939, 1.3934, 1.2556,\n",
       "         1.1388, 1.6969, 1.7264, 1.8180, 1.8383, 1.8102, 1.4185, 1.0710, 1.1352,\n",
       "         0.7000, 1.4928],\n",
       "        [0.8886, 1.6702, 1.6748, 1.4497, 1.4944, 0.7834, 1.0984, 1.6682, 1.3802,\n",
       "         1.3673, 1.2933, 1.3575, 1.3328, 1.7197, 1.3095, 1.5201, 0.8296, 1.7738,\n",
       "         1.6408, 0.8126],\n",
       "        [0.9591, 1.1338, 0.9490, 1.0150, 0.9882, 1.0997, 1.5542, 1.0202, 0.4419,\n",
       "         1.5981, 0.9165, 1.0492, 1.0190, 1.4497, 1.4377, 1.0473, 0.4707, 1.2580,\n",
       "         1.1801, 0.8094],\n",
       "        [0.5056, 0.8635, 0.9612, 0.3492, 1.2069, 1.2284, 1.0749, 0.8341, 0.2578,\n",
       "         1.2283, 0.7737, 0.4501, 0.8792, 1.2718, 1.5051, 0.6482, 1.0966, 0.6867,\n",
       "         1.0170, 0.5112],\n",
       "        [1.4451, 1.2286, 1.5220, 0.5204, 1.1952, 1.3837, 1.3101, 1.4527, 1.1453,\n",
       "         1.6328, 1.0104, 1.1962, 1.4664, 1.4071, 1.4946, 1.1985, 0.6995, 1.2538,\n",
       "         1.4204, 0.8648],\n",
       "        [1.1483, 1.1092, 1.4848, 0.3021, 0.9935, 0.4905, 1.4139, 0.6155, 1.1057,\n",
       "         1.2148, 1.4282, 0.9197, 1.3922, 1.1831, 1.5190, 1.4418, 0.6479, 1.2805,\n",
       "         1.2890, 1.2407],\n",
       "        [1.1449, 1.0047, 1.2735, 0.9477, 1.2558, 0.4346, 1.5551, 1.2769, 1.0425,\n",
       "         1.1649, 1.2926, 0.5655, 1.0734, 0.7642, 0.8983, 1.3671, 1.2265, 1.2253,\n",
       "         0.6719, 0.9004]], grad_fn=<AddBackward0>)"
      ]
     },
     "execution_count": 17,
     "metadata": {},
     "output_type": "execute_result"
    }
   ],
   "source": [
    "modified_edge_weights"
   ]
  },
  {
   "cell_type": "code",
   "execution_count": 18,
   "metadata": {},
   "outputs": [
    {
     "data": {
      "text/plain": [
       "<matplotlib.colorbar.Colorbar at 0x7efb80643080>"
      ]
     },
     "execution_count": 18,
     "metadata": {},
     "output_type": "execute_result"
    },
    {
     "data": {
      "image/png": "[encoded data removed]",
      "text/plain": [
       "<Figure size 432x288 with 2 Axes>"
      ]
     },
     "metadata": {
      "needs_background": "light"
     },
     "output_type": "display_data"
    }
   ],
   "source": [
    "plt.imshow(resulting_match.detach().numpy())\n",
    "plt.colorbar()"
   ]
  },
  {
   "cell_type": "code",
   "execution_count": 19,
   "metadata": {},
   "outputs": [],
   "source": [
    "true_cost = torch.sum(resulting_match * rand_e_weight)"
   ]
  },
  {
   "cell_type": "code",
   "execution_count": 20,
   "metadata": {},
   "outputs": [
    {
     "data": {
      "text/plain": [
       "tensor(18.2239, grad_fn=<SumBackward0>)"
      ]
     },
     "execution_count": 20,
     "metadata": {},
     "output_type": "execute_result"
    }
   ],
   "source": [
    "true_cost"
   ]
  },
  {
   "cell_type": "markdown",
   "metadata": {},
   "source": [
    "next step: decide on arrival/departure model -- presumably it should be type-dependent (one rare type with one really good edge to one other type)"
   ]
  },
  {
   "cell_type": "code",
   "execution_count": 21,
   "metadata": {},
   "outputs": [],
   "source": [
    "type_arrival_rates = torch.rand(d)\n",
    "type_departure_probs = torch.rand(d)"
   ]
  },
  {
   "cell_type": "code",
   "execution_count": 22,
   "metadata": {},
   "outputs": [
    {
     "data": {
      "text/plain": [
       "tensor([1, 1, 1, 1, 1, 1, 1, 1, 1, 1, 1, 1, 1, 1, 1, 1, 1, 1, 1, 1],\n",
       "       dtype=torch.uint8)"
      ]
     },
     "execution_count": 22,
     "metadata": {},
     "output_type": "execute_result"
    }
   ],
   "source": [
    "torch.max(resulting_match, 0).values != 1"
   ]
  },
  {
   "cell_type": "code",
   "execution_count": 23,
   "metadata": {},
   "outputs": [],
   "source": [
    "new_match = resulting_match.clone()"
   ]
  },
  {
   "cell_type": "code",
   "execution_count": 24,
   "metadata": {},
   "outputs": [],
   "source": [
    "new_match[19,15] = 0.0"
   ]
  },
  {
   "cell_type": "code",
   "execution_count": 25,
   "metadata": {},
   "outputs": [],
   "source": [
    "new_match[16,0] = 0.0"
   ]
  },
  {
   "cell_type": "code",
   "execution_count": 26,
   "metadata": {},
   "outputs": [
    {
     "data": {
      "text/plain": [
       "tensor([0., 0., 2., 1., 0., 0., 0., 0., 0., 0.])"
      ]
     },
     "execution_count": 26,
     "metadata": {},
     "output_type": "execute_result"
    }
   ],
   "source": [
    "torch.poisson(type_arrival_rates)"
   ]
  },
  {
   "cell_type": "code",
   "execution_count": 27,
   "metadata": {},
   "outputs": [],
   "source": [
    "def ind_counts_to_longs(arrival_counts):\n",
    "    # optimize later\n",
    "    results = []\n",
    "    for i in range(arrival_counts.shape[0]):\n",
    "        for j in range(arrival_counts[i].long().item()):\n",
    "            results.append(i)\n",
    "    return torch.LongTensor(results)"
   ]
  },
  {
   "cell_type": "code",
   "execution_count": 28,
   "metadata": {},
   "outputs": [
    {
     "data": {
      "text/plain": [
       "tensor([3, 3, 5, 7])"
      ]
     },
     "execution_count": 28,
     "metadata": {},
     "output_type": "execute_result"
    }
   ],
   "source": [
    "ind_counts_to_longs(torch.poisson(type_arrival_rates))"
   ]
  },
  {
   "cell_type": "code",
   "execution_count": 29,
   "metadata": {},
   "outputs": [],
   "source": [
    "def step_simulation(current_elems, match_edges, d, type_arrival_rates, type_departure_probs, match_thresh=0.8):\n",
    "    # first match elements\n",
    "    pool_after_match = current_elems[torch.max(match_edges, 0).values <= match_thresh]\n",
    "    \n",
    "    # now handle departures\n",
    "    if pool_after_match.shape[0] > 0:\n",
    "        remaining_elements_depart_prob = type_departure_probs[pool_after_match]\n",
    "        remain = torch.bernoulli(1 - remaining_elements_depart_prob).nonzero().view(-1)\n",
    "        remaining_elements = pool_after_match[remain]\n",
    "    else:\n",
    "        remaining_elements = pool_after_match\n",
    "    \n",
    "    # now get new elements (poisson?)\n",
    "    after_arrivals = torch.cat((remaining_elements, ind_counts_to_longs(torch.poisson(type_arrival_rates))))\n",
    "    \n",
    "    return after_arrivals"
   ]
  },
  {
   "cell_type": "code",
   "execution_count": 30,
   "metadata": {},
   "outputs": [
    {
     "data": {
      "text/plain": [
       "tensor([3, 3, 4, 4, 5, 5])"
      ]
     },
     "execution_count": 30,
     "metadata": {},
     "output_type": "execute_result"
    }
   ],
   "source": [
    "step_simulation(rand_types_pool, new_match, d, type_arrival_rates, type_departure_probs)"
   ]
  },
  {
   "cell_type": "code",
   "execution_count": 31,
   "metadata": {},
   "outputs": [],
   "source": [
    "type_departure_probs[9] = 0.1"
   ]
  },
  {
   "cell_type": "code",
   "execution_count": 32,
   "metadata": {},
   "outputs": [],
   "source": [
    "def edge_matrix(current_elems, e_weights_by_type):\n",
    "    # compute the matrix of edge weights by type of each element\n",
    "    # should actually be shaped as matrix, will be flattened later\n",
    "    \n",
    "    # optimize later\n",
    "    edge_mat = torch.zeros((current_elems.shape[0], current_elems.shape[0]))\n",
    "    for i in range(current_elems.shape[0]):\n",
    "        for j in range(current_elems.shape[0]):\n",
    "            u = current_elems[i]\n",
    "            v = current_elems[j]\n",
    "            edge_mat[i, j] = e_weights_by_type[u, v]\n",
    "            \n",
    "    return edge_mat"
   ]
  },
  {
   "cell_type": "code",
   "execution_count": 33,
   "metadata": {},
   "outputs": [],
   "source": [
    "xx = torch.rand((d,d))\n",
    "e_weights_by_type_rand = (xx + xx.t())"
   ]
  },
  {
   "cell_type": "code",
   "execution_count": 34,
   "metadata": {},
   "outputs": [
    {
     "data": {
      "text/plain": [
       "tensor([[1.7166, 1.7166, 0.8220, 0.8318, 0.6705, 1.6140, 0.8220, 0.9928, 0.6705,\n",
       "         1.1326, 1.7166, 1.3104, 0.8220, 0.8133, 0.8133, 1.7166, 1.6140, 0.8220,\n",
       "         0.9928, 1.3104],\n",
       "        [1.7166, 1.7166, 0.8220, 0.8318, 0.6705, 1.6140, 0.8220, 0.9928, 0.6705,\n",
       "         1.1326, 1.7166, 1.3104, 0.8220, 0.8133, 0.8133, 1.7166, 1.6140, 0.8220,\n",
       "         0.9928, 1.3104],\n",
       "        [0.8220, 0.8220, 1.7560, 1.1662, 1.2292, 0.9103, 1.7560, 0.6563, 1.2292,\n",
       "         1.4839, 0.8220, 1.2010, 1.7560, 0.6249, 0.6249, 0.8220, 0.9103, 1.7560,\n",
       "         0.6563, 1.2010],\n",
       "        [0.8318, 0.8318, 1.1662, 0.1227, 0.5833, 0.8893, 1.1662, 0.8972, 0.5833,\n",
       "         1.5762, 0.8318, 0.6131, 1.1662, 1.4667, 1.4667, 0.8318, 0.8893, 1.1662,\n",
       "         0.8972, 0.6131],\n",
       "        [0.6705, 0.6705, 1.2292, 0.5833, 0.7122, 0.7340, 1.2292, 0.6181, 0.7122,\n",
       "         1.0419, 0.6705, 0.6903, 1.2292, 1.5025, 1.5025, 0.6705, 0.7340, 1.2292,\n",
       "         0.6181, 0.6903],\n",
       "        [1.6140, 1.6140, 0.9103, 0.8893, 0.7340, 1.1246, 0.9103, 1.0187, 0.7340,\n",
       "         0.8957, 1.6140, 0.9786, 0.9103, 0.9819, 0.9819, 1.6140, 1.1246, 0.9103,\n",
       "         1.0187, 0.9786],\n",
       "        [0.8220, 0.8220, 1.7560, 1.1662, 1.2292, 0.9103, 1.7560, 0.6563, 1.2292,\n",
       "         1.4839, 0.8220, 1.2010, 1.7560, 0.6249, 0.6249, 0.8220, 0.9103, 1.7560,\n",
       "         0.6563, 1.2010],\n",
       "        [0.9928, 0.9928, 0.6563, 0.8972, 0.6181, 1.0187, 0.6563, 0.3600, 0.6181,\n",
       "         1.5512, 0.9928, 1.3221, 0.6563, 1.0322, 1.0322, 0.9928, 1.0187, 0.6563,\n",
       "         0.3600, 1.3221],\n",
       "        [0.6705, 0.6705, 1.2292, 0.5833, 0.7122, 0.7340, 1.2292, 0.6181, 0.7122,\n",
       "         1.0419, 0.6705, 0.6903, 1.2292, 1.5025, 1.5025, 0.6705, 0.7340, 1.2292,\n",
       "         0.6181, 0.6903],\n",
       "        [1.1326, 1.1326, 1.4839, 1.5762, 1.0419, 0.8957, 1.4839, 1.5512, 1.0419,\n",
       "         0.7588, 1.1326, 1.4627, 1.4839, 0.9690, 0.9690, 1.1326, 0.8957, 1.4839,\n",
       "         1.5512, 1.4627],\n",
       "        [1.7166, 1.7166, 0.8220, 0.8318, 0.6705, 1.6140, 0.8220, 0.9928, 0.6705,\n",
       "         1.1326, 1.7166, 1.3104, 0.8220, 0.8133, 0.8133, 1.7166, 1.6140, 0.8220,\n",
       "         0.9928, 1.3104],\n",
       "        [1.3104, 1.3104, 1.2010, 0.6131, 0.6903, 0.9786, 1.2010, 1.3221, 0.6903,\n",
       "         1.4627, 1.3104, 0.6453, 1.2010, 1.0585, 1.0585, 1.3104, 0.9786, 1.2010,\n",
       "         1.3221, 0.6453],\n",
       "        [0.8220, 0.8220, 1.7560, 1.1662, 1.2292, 0.9103, 1.7560, 0.6563, 1.2292,\n",
       "         1.4839, 0.8220, 1.2010, 1.7560, 0.6249, 0.6249, 0.8220, 0.9103, 1.7560,\n",
       "         0.6563, 1.2010],\n",
       "        [0.8133, 0.8133, 0.6249, 1.4667, 1.5025, 0.9819, 0.6249, 1.0322, 1.5025,\n",
       "         0.9690, 0.8133, 1.0585, 0.6249, 0.5532, 0.5532, 0.8133, 0.9819, 0.6249,\n",
       "         1.0322, 1.0585],\n",
       "        [0.8133, 0.8133, 0.6249, 1.4667, 1.5025, 0.9819, 0.6249, 1.0322, 1.5025,\n",
       "         0.9690, 0.8133, 1.0585, 0.6249, 0.5532, 0.5532, 0.8133, 0.9819, 0.6249,\n",
       "         1.0322, 1.0585],\n",
       "        [1.7166, 1.7166, 0.8220, 0.8318, 0.6705, 1.6140, 0.8220, 0.9928, 0.6705,\n",
       "         1.1326, 1.7166, 1.3104, 0.8220, 0.8133, 0.8133, 1.7166, 1.6140, 0.8220,\n",
       "         0.9928, 1.3104],\n",
       "        [1.6140, 1.6140, 0.9103, 0.8893, 0.7340, 1.1246, 0.9103, 1.0187, 0.7340,\n",
       "         0.8957, 1.6140, 0.9786, 0.9103, 0.9819, 0.9819, 1.6140, 1.1246, 0.9103,\n",
       "         1.0187, 0.9786],\n",
       "        [0.8220, 0.8220, 1.7560, 1.1662, 1.2292, 0.9103, 1.7560, 0.6563, 1.2292,\n",
       "         1.4839, 0.8220, 1.2010, 1.7560, 0.6249, 0.6249, 0.8220, 0.9103, 1.7560,\n",
       "         0.6563, 1.2010],\n",
       "        [0.9928, 0.9928, 0.6563, 0.8972, 0.6181, 1.0187, 0.6563, 0.3600, 0.6181,\n",
       "         1.5512, 0.9928, 1.3221, 0.6563, 1.0322, 1.0322, 0.9928, 1.0187, 0.6563,\n",
       "         0.3600, 1.3221],\n",
       "        [1.3104, 1.3104, 1.2010, 0.6131, 0.6903, 0.9786, 1.2010, 1.3221, 0.6903,\n",
       "         1.4627, 1.3104, 0.6453, 1.2010, 1.0585, 1.0585, 1.3104, 0.9786, 1.2010,\n",
       "         1.3221, 0.6453]])"
      ]
     },
     "execution_count": 34,
     "metadata": {},
     "output_type": "execute_result"
    }
   ],
   "source": [
    "edge_matrix(rand_types_pool, e_weights_by_type_rand)"
   ]
  },
  {
   "cell_type": "code",
   "execution_count": 35,
   "metadata": {},
   "outputs": [
    {
     "data": {
      "text/plain": [
       "<matplotlib.image.AxesImage at 0x7efb805db048>"
      ]
     },
     "execution_count": 35,
     "metadata": {},
     "output_type": "execute_result"
    },
    {
     "data": {
      "image/png": "[encoded data removed]",
      "text/plain": [
       "<Figure size 432x288 with 1 Axes>"
      ]
     },
     "metadata": {
      "needs_background": "light"
     },
     "output_type": "display_data"
    }
   ],
   "source": [
    "plt.imshow(rand_e_weight.numpy())"
   ]
  },
  {
   "cell_type": "code",
   "execution_count": 36,
   "metadata": {},
   "outputs": [
    {
     "data": {
      "text/plain": [
       "<matplotlib.image.AxesImage at 0x7efb805256d8>"
      ]
     },
     "execution_count": 36,
     "metadata": {},
     "output_type": "execute_result"
    },
    {
     "data": {
      "image/png": "[encoded data removed]",
      "text/plain": [
       "<Figure size 432x288 with 1 Axes>"
      ]
     },
     "metadata": {
      "needs_background": "light"
     },
     "output_type": "display_data"
    }
   ],
   "source": [
    "plt.imshow(edge_matrix(rand_types_pool, e_weights_by_type_rand).numpy())"
   ]
  },
  {
   "cell_type": "code",
   "execution_count": 37,
   "metadata": {},
   "outputs": [],
   "source": [
    "# type_weights is the learned parameter\n",
    "\n",
    "def compute_matching(current_elems, curr_type_weights, e_weights_by_type, gamma=0.00001):\n",
    "    n = current_elems.shape[0]\n",
    "    A, b = make_matching_matrix(n)\n",
    "    A = torch.from_numpy(A).float()\n",
    "    b = torch.from_numpy(b).float()\n",
    "    # for some reason we need this randomness to end up with an actual matching\n",
    "    e_weights = edge_matrix(current_elems, e_weights_by_type)\n",
    "    jitter_e_weights = e_weights + 1e-4*torch.rand(n,n)\n",
    "    #e_weights = torch.rand(n,n)\n",
    "    model_params_quad = make_gurobi_model(A.detach().numpy(), b.detach().numpy(), None, None, gamma*np.eye(A.shape[1]))\n",
    "    func = QPFunction(verbose=False, solver=QPSolvers.GUROBI, model_params=model_params_quad)\n",
    "    \n",
    "    Q_mat = gamma*torch.eye(A.shape[1])\n",
    "    \n",
    "    curr_elem_weights = curr_type_weights[current_elems]\n",
    "    modified_edge_weights = jitter_e_weights + 0.5*(torch.unsqueeze(curr_elem_weights,0) + torch.unsqueeze(curr_elem_weights,1))\n",
    "    # may need some negative signs\n",
    "    resulting_match = func(Q_mat, -modified_edge_weights.view(-1), A, b, torch.Tensor(), torch.Tensor()).view(n,n)\n",
    "    return resulting_match, e_weights"
   ]
  },
  {
   "cell_type": "code",
   "execution_count": 38,
   "metadata": {},
   "outputs": [],
   "source": [
    "new_match, e_weights = compute_matching(rand_types_pool, rand_d_weights, e_weights_by_type_rand, gamma=1e-7)"
   ]
  },
  {
   "cell_type": "code",
   "execution_count": 39,
   "metadata": {},
   "outputs": [
    {
     "data": {
      "text/plain": [
       "<matplotlib.colorbar.Colorbar at 0x7efb804d9ac8>"
      ]
     },
     "execution_count": 39,
     "metadata": {},
     "output_type": "execute_result"
    },
    {
     "data": {
      "image/png": "[encoded data removed]",
      "text/plain": [
       "<Figure size 432x288 with 2 Axes>"
      ]
     },
     "metadata": {
      "needs_background": "light"
     },
     "output_type": "display_data"
    }
   ],
   "source": [
    "plt.imshow(new_match.detach().numpy())\n",
    "plt.colorbar()"
   ]
  },
  {
   "cell_type": "code",
   "execution_count": 40,
   "metadata": {},
   "outputs": [],
   "source": [
    "loss = torch.sum(new_match*e_weights)\n"
   ]
  },
  {
   "cell_type": "code",
   "execution_count": 41,
   "metadata": {},
   "outputs": [],
   "source": [
    "loss.backward()"
   ]
  },
  {
   "cell_type": "code",
   "execution_count": null,
   "metadata": {},
   "outputs": [],
   "source": []
  }
 ],
 "metadata": {
  "kernelspec": {
   "display_name": "Python 3",
   "language": "python",
   "name": "python3"
  },
  "language_info": {
   "codemirror_mode": {
    "name": "ipython",
    "version": 3
   },
   "file_extension": ".py",
   "mimetype": "text/x-python",
   "name": "python",
   "nbconvert_exporter": "python",
   "pygments_lexer": "ipython3",
   "version": "3.7.3"
  }
 },
 "nbformat": 4,
 "nbformat_minor": 2
}
