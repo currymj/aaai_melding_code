{
 "cells": [
  {
   "cell_type": "code",
   "execution_count": 38,
   "metadata": {},
   "outputs": [],
   "source": [
    "%matplotlib inline\n",
    "\n",
    "import torch\n",
    "import torch.nn as nn\n",
    "import random\n",
    "import numpy as np\n",
    "from qpthlocal.qp import QPFunction\n",
    "from qpthlocal.qp import QPSolvers\n",
    "from qpthlocal.qp import make_gurobi_model\n",
    "import pickle\n",
    "import argparse\n",
    "import matplotlib.pyplot as plt\n",
    "from tqdm import tqdm_notebook as tqdm"
   ]
  },
  {
   "cell_type": "code",
   "execution_count": 39,
   "metadata": {},
   "outputs": [],
   "source": [
    "def make_matching_matrix(n):\n",
    "    \n",
    "    # n is num elements?\n",
    "    lhs = list(range(n))\n",
    "    rhs = list(range(n, 2*n))\n",
    "    \n",
    "    # n_vars is 1 per possible edge?\n",
    "    n_vars = len(lhs)*len(rhs)\n",
    "    # n_constraints is 1 for each lhs, 1 for each rhs, 1 per edge?\n",
    "    n_constraints = len(lhs) + len(rhs) + n_vars\n",
    "    A = np.zeros((n_constraints, n_vars))\n",
    "    b = np.zeros((n_constraints))\n",
    "    curr_idx = 0\n",
    "    edge_idx = {}\n",
    "    # get an index per edge\n",
    "    for u in lhs:\n",
    "        for v in rhs:\n",
    "            edge_idx[(u,v)] = curr_idx\n",
    "            curr_idx += 1\n",
    "    # A has rows of 2n elements, followed by n^2 edges\n",
    "    # A has cols of n^2 edges (so A @ x where x is edges)\n",
    "    for u in lhs:\n",
    "        for v in rhs:\n",
    "            # for u, flip on coefficient for only its outgoing edges\n",
    "            A[u, edge_idx[(u,v)]] = 1\n",
    "            # for v, flip on coefficient for only its incoming edges\n",
    "            A[v, edge_idx[(u,v)]] = 1\n",
    "            # for the edge itself, flip on a single -1 at its point only\n",
    "            A[len(lhs)+len(rhs)+edge_idx[(u,v)], edge_idx[(u,v)]] = -1\n",
    "    \n",
    "    # each element can have only 1 edge turned on in x\n",
    "    for u in lhs:\n",
    "        b[u] = 1\n",
    "    for u in rhs:\n",
    "        b[u] = 1\n",
    "    \n",
    "    \n",
    "    return A, b\n"
   ]
  },
  {
   "cell_type": "code",
   "execution_count": 40,
   "metadata": {},
   "outputs": [],
   "source": [
    "A, b = make_matching_matrix(10)\n",
    "A = torch.from_numpy(A).float()\n",
    "b = torch.from_numpy(b).float()\n",
    "gamma = 0.001\n",
    "model_params_quad = make_gurobi_model(A.detach().numpy(), b.detach().numpy(), None, None, gamma*np.eye(A.shape[1]))\n"
   ]
  },
  {
   "cell_type": "code",
   "execution_count": null,
   "metadata": {},
   "outputs": [],
   "source": []
  },
  {
   "cell_type": "code",
   "execution_count": 41,
   "metadata": {},
   "outputs": [],
   "source": [
    "c_rand = -torch.rand(100, requires_grad=True)"
   ]
  },
  {
   "cell_type": "code",
   "execution_count": 42,
   "metadata": {},
   "outputs": [],
   "source": [
    "func = QPFunction(verbose=False, solver=QPSolvers.GUROBI, model_params=model_params_quad)"
   ]
  },
  {
   "cell_type": "code",
   "execution_count": 43,
   "metadata": {},
   "outputs": [],
   "source": [
    "# Q is gamma * I\n",
    "# we're not batching\n",
    "\n",
    "match = func(gamma*torch.eye(A.shape[1]), c_rand, A, b, torch.Tensor(), torch.Tensor())"
   ]
  },
  {
   "cell_type": "code",
   "execution_count": 44,
   "metadata": {},
   "outputs": [
    {
     "data": {
      "text/plain": [
       "[<matplotlib.lines.Line2D at 0x7efb80520b00>]"
      ]
     },
     "execution_count": 44,
     "metadata": {},
     "output_type": "execute_result"
    },
    {
     "data": {
      "image/png": "[encoded data removed]",
      "text/plain": [
       "<Figure size 432x288 with 1 Axes>"
      ]
     },
     "metadata": {
      "needs_background": "light"
     },
     "output_type": "display_data"
    }
   ],
   "source": [
    "plt.plot(match.detach().numpy().flatten())"
   ]
  },
  {
   "cell_type": "code",
   "execution_count": 45,
   "metadata": {},
   "outputs": [],
   "source": [
    "match.sum().backward()"
   ]
  },
  {
   "cell_type": "markdown",
   "metadata": {},
   "source": [
    "## plan for dynamic setting:\n",
    "- d types\n",
    "- pool of elements curr_elem each with type (n at each time step)\n",
    "- known edge weights between each type (?) e_weight (size n^2, recomputed at each time step)\n",
    "- learned_coeff weights modify known edge weights (weights for each type, effectively pair of types, so d of these)\n",
    "- perform match, true value of match is e_weight * x\n",
    "- remove elements, recreate curr_elem, recreate e_weight\n",
    "\n",
    "some thoughts: encoding type of pool of elements should be either LongTensor or one-hot so can get gradients after indexing\n",
    "\n"
   ]
  },
  {
   "cell_type": "code",
   "execution_count": 46,
   "metadata": {},
   "outputs": [],
   "source": [
    "d=10\n",
    "rand_d_weights = torch.rand(d, requires_grad=True)"
   ]
  },
  {
   "cell_type": "code",
   "execution_count": 47,
   "metadata": {},
   "outputs": [],
   "source": [
    "n = 20\n",
    "rand_types_pool = torch.randint(d,(n,))"
   ]
  },
  {
   "cell_type": "code",
   "execution_count": 48,
   "metadata": {},
   "outputs": [],
   "source": [
    "curr_weights = rand_d_weights[rand_types_pool]"
   ]
  },
  {
   "cell_type": "code",
   "execution_count": 49,
   "metadata": {},
   "outputs": [],
   "source": [
    "rand_e_weight = torch.rand(n,n) # in reality should be based on types (but not on weights)"
   ]
  },
  {
   "cell_type": "code",
   "execution_count": 50,
   "metadata": {},
   "outputs": [],
   "source": [
    "modified_edge_weights = rand_e_weight + 0.5*(torch.unsqueeze(curr_weights,0) + torch.unsqueeze(curr_weights, 1))"
   ]
  },
  {
   "cell_type": "code",
   "execution_count": 51,
   "metadata": {},
   "outputs": [],
   "source": [
    "A, b = make_matching_matrix(n)\n",
    "A = torch.from_numpy(A).float()\n",
    "b = torch.from_numpy(b).float()\n",
    "gamma = 0.0001\n",
    "model_params_quad = make_gurobi_model(A.detach().numpy(), b.detach().numpy(), None, None, gamma*np.eye(A.shape[1]))"
   ]
  },
  {
   "cell_type": "code",
   "execution_count": 52,
   "metadata": {},
   "outputs": [],
   "source": [
    "func = QPFunction(verbose=False, solver=QPSolvers.GUROBI, model_params = model_params_quad)"
   ]
  },
  {
   "cell_type": "code",
   "execution_count": 53,
   "metadata": {},
   "outputs": [],
   "source": [
    "resulting_match = func(gamma*torch.eye(A.shape[1]), -modified_edge_weights.view(-1), A, b, torch.Tensor(), torch.Tensor()).view(20,20)"
   ]
  },
  {
   "cell_type": "code",
   "execution_count": 54,
   "metadata": {},
   "outputs": [
    {
     "data": {
      "text/plain": [
       "tensor([[1.1565, 1.2402, 0.6435, 0.8565, 1.6944, 0.9980, 1.3214, 0.7546, 1.2610,\n",
       "         1.1764, 1.7086, 1.1603, 0.9426, 0.9583, 1.4080, 0.9775, 1.2730, 0.6769,\n",
       "         1.4184, 1.5539],\n",
       "        [1.6209, 0.9691, 1.2742, 1.4351, 1.2322, 0.4024, 0.8509, 1.1922, 0.5334,\n",
       "         1.7182, 0.7776, 0.5964, 1.4020, 0.9951, 1.2951, 0.9103, 1.6365, 0.7447,\n",
       "         1.2791, 1.5313],\n",
       "        [1.2172, 1.1555, 0.5692, 1.0331, 1.2570, 0.2293, 1.2200, 0.3511, 0.6558,\n",
       "         1.2499, 1.0083, 0.9076, 1.0890, 0.6022, 0.4998, 0.4206, 1.2687, 0.7886,\n",
       "         0.4907, 0.6925],\n",
       "        [0.8531, 1.5134, 0.4940, 1.3766, 0.7346, 0.9543, 0.7943, 1.1860, 0.5174,\n",
       "         1.0277, 0.8232, 1.0345, 1.3804, 0.9274, 0.9800, 0.5946, 1.4564, 0.8396,\n",
       "         1.0857, 1.3822],\n",
       "        [1.1394, 1.1064, 1.1380, 1.6084, 1.0480, 1.2398, 1.4775, 0.7414, 0.8145,\n",
       "         0.8989, 1.3906, 0.4673, 0.8979, 1.1631, 1.2721, 0.7128, 1.1338, 1.1739,\n",
       "         0.8463, 0.8778],\n",
       "        [0.4590, 0.8866, 0.0516, 1.1418, 0.5018, 0.0421, 0.9068, 0.9256, 1.0708,\n",
       "         0.6064, 1.2444, 0.2996, 0.4716, 0.5940, 1.2543, 1.0129, 0.5060, 0.6983,\n",
       "         0.6693, 0.3164],\n",
       "        [0.6956, 1.5731, 0.9092, 0.6879, 1.3502, 1.0089, 1.3129, 0.9863, 0.9600,\n",
       "         1.1558, 1.5805, 1.1889, 1.1452, 1.5199, 1.3398, 0.5827, 1.5164, 0.8398,\n",
       "         0.8530, 0.7441],\n",
       "        [1.5038, 0.6340, 1.2200, 0.7319, 0.7221, 0.7755, 0.6551, 0.8678, 1.1493,\n",
       "         1.0225, 1.5608, 0.6961, 0.6842, 0.6475, 0.6660, 1.0481, 1.5422, 0.3222,\n",
       "         0.8233, 0.7596],\n",
       "        [1.2999, 0.4820, 0.3415, 1.2281, 0.8051, 0.1463, 0.6222, 0.7392, 0.9877,\n",
       "         1.3324, 1.4377, 1.0001, 0.7871, 0.8834, 0.9523, 0.4790, 0.6060, 0.1266,\n",
       "         0.7533, 0.6221],\n",
       "        [1.0126, 1.5198, 0.7590, 0.8819, 1.3884, 0.8440, 0.8828, 1.0683, 0.6423,\n",
       "         1.8624, 1.3406, 0.5823, 1.4821, 1.1605, 1.3226, 1.4951, 1.0746, 0.5369,\n",
       "         0.7915, 0.8686],\n",
       "        [0.8669, 1.4038, 1.0430, 0.9172, 1.4187, 0.4875, 0.8143, 0.7312, 1.2781,\n",
       "         0.8943, 1.0639, 1.0103, 1.4291, 0.7316, 1.5182, 0.9973, 1.6621, 1.3393,\n",
       "         1.5073, 1.5762],\n",
       "        [1.2613, 1.2653, 0.3810, 0.5679, 0.9552, 0.2390, 0.4410, 0.3289, 0.4274,\n",
       "         1.2223, 1.0716, 0.4795, 0.5019, 1.1790, 0.4209, 0.6242, 0.9312, 0.6981,\n",
       "         0.9307, 1.1199],\n",
       "        [1.4882, 0.9802, 0.3310, 0.8900, 1.4495, 0.4570, 0.5109, 0.7593, 1.2411,\n",
       "         1.6168, 0.6651, 0.8002, 1.2136, 0.8172, 0.9498, 0.5488, 0.6788, 0.3031,\n",
       "         1.2362, 1.3861],\n",
       "        [1.2423, 1.0676, 0.4806, 0.7385, 1.2983, 1.1142, 0.5949, 1.4872, 1.1321,\n",
       "         1.4408, 1.6998, 0.4648, 1.2561, 1.3003, 0.8240, 1.1412, 1.0064, 0.5878,\n",
       "         1.3195, 1.5509],\n",
       "        [1.2483, 1.2484, 1.2565, 1.5354, 1.3283, 0.4734, 0.8234, 0.8314, 0.8311,\n",
       "         1.5787, 1.5492, 1.1184, 0.8112, 1.2363, 1.6083, 0.8077, 1.6557, 0.4317,\n",
       "         0.7554, 1.1109],\n",
       "        [1.4937, 0.7157, 0.8732, 1.0058, 0.8396, 0.8195, 1.2785, 0.7210, 0.3510,\n",
       "         1.2890, 0.7897, 0.7561, 0.5938, 0.6551, 1.4949, 1.3972, 1.2503, 0.4189,\n",
       "         0.9357, 0.6969],\n",
       "        [1.1372, 1.5873, 0.5863, 1.2162, 1.4269, 1.2763, 1.4561, 0.6801, 1.2816,\n",
       "         1.7126, 1.1633, 0.4783, 1.2935, 0.8621, 1.4364, 0.6984, 1.0642, 0.4313,\n",
       "         0.8771, 1.2479],\n",
       "        [1.2711, 1.1692, 0.2322, 0.8875, 0.9953, 0.4937, 0.8106, 0.8366, 0.5225,\n",
       "         1.0575, 1.2443, 0.4270, 0.9750, 0.6314, 0.5473, 0.8660, 1.0750, 0.5356,\n",
       "         0.7276, 0.8030],\n",
       "        [1.1022, 1.4355, 0.8830, 1.3225, 1.6300, 0.3053, 0.9680, 1.3392, 1.2815,\n",
       "         0.6817, 1.5255, 0.8025, 0.6203, 1.0457, 1.3983, 0.8726, 0.6471, 0.7827,\n",
       "         0.8857, 0.8354],\n",
       "        [1.2683, 1.5062, 0.5072, 0.5646, 0.8932, 0.5157, 1.4011, 0.7464, 1.0062,\n",
       "         1.6597, 0.8040, 0.9051, 0.5913, 1.4713, 0.6991, 0.7033, 0.9403, 0.9426,\n",
       "         0.5219, 1.3531]], grad_fn=<AddBackward0>)"
      ]
     },
     "execution_count": 54,
     "metadata": {},
     "output_type": "execute_result"
    }
   ],
   "source": [
    "modified_edge_weights"
   ]
  },
  {
   "cell_type": "code",
   "execution_count": 55,
   "metadata": {},
   "outputs": [
    {
     "data": {
      "text/plain": [
       "<matplotlib.colorbar.Colorbar at 0x7efb804570f0>"
      ]
     },
     "execution_count": 55,
     "metadata": {},
     "output_type": "execute_result"
    },
    {
     "data": {
      "image/png": "[encoded data removed]",
      "text/plain": [
       "<Figure size 432x288 with 2 Axes>"
      ]
     },
     "metadata": {
      "needs_background": "light"
     },
     "output_type": "display_data"
    }
   ],
   "source": [
    "plt.imshow(resulting_match.detach().numpy())\n",
    "plt.colorbar()"
   ]
  },
  {
   "cell_type": "code",
   "execution_count": 56,
   "metadata": {},
   "outputs": [],
   "source": [
    "true_cost = torch.sum(resulting_match * rand_e_weight)"
   ]
  },
  {
   "cell_type": "code",
   "execution_count": 57,
   "metadata": {},
   "outputs": [
    {
     "data": {
      "text/plain": [
       "tensor(18.5048, grad_fn=<SumBackward0>)"
      ]
     },
     "execution_count": 57,
     "metadata": {},
     "output_type": "execute_result"
    }
   ],
   "source": [
    "true_cost"
   ]
  },
  {
   "cell_type": "markdown",
   "metadata": {},
   "source": [
    "next step: decide on arrival/departure model -- presumably it should be type-dependent (one rare type with one really good edge to one other type)"
   ]
  },
  {
   "cell_type": "code",
   "execution_count": 58,
   "metadata": {},
   "outputs": [],
   "source": [
    "type_arrival_rates = torch.rand(d)\n",
    "type_departure_probs = torch.rand(d)"
   ]
  },
  {
   "cell_type": "code",
   "execution_count": 59,
   "metadata": {},
   "outputs": [
    {
     "data": {
      "text/plain": [
       "tensor([0, 0, 0, 0, 0, 0, 0, 0, 1, 0, 0, 0, 0, 0, 1, 0, 1, 0, 0, 1],\n",
       "       dtype=torch.uint8)"
      ]
     },
     "execution_count": 59,
     "metadata": {},
     "output_type": "execute_result"
    }
   ],
   "source": [
    "torch.max(resulting_match, 0).values != 1"
   ]
  },
  {
   "cell_type": "code",
   "execution_count": 60,
   "metadata": {},
   "outputs": [],
   "source": [
    "new_match = resulting_match.clone()"
   ]
  },
  {
   "cell_type": "code",
   "execution_count": 61,
   "metadata": {},
   "outputs": [],
   "source": [
    "new_match[19,15] = 0.0"
   ]
  },
  {
   "cell_type": "code",
   "execution_count": 62,
   "metadata": {},
   "outputs": [],
   "source": [
    "new_match[16,0] = 0.0"
   ]
  },
  {
   "cell_type": "code",
   "execution_count": 63,
   "metadata": {},
   "outputs": [
    {
     "data": {
      "text/plain": [
       "tensor([0., 1., 1., 0., 0., 2., 1., 1., 0., 0.])"
      ]
     },
     "execution_count": 63,
     "metadata": {},
     "output_type": "execute_result"
    }
   ],
   "source": [
    "torch.poisson(type_arrival_rates)"
   ]
  },
  {
   "cell_type": "code",
   "execution_count": 64,
   "metadata": {},
   "outputs": [],
   "source": [
    "def ind_counts_to_longs(arrival_counts):\n",
    "    # optimize later\n",
    "    results = []\n",
    "    for i in range(arrival_counts.shape[0]):\n",
    "        for j in range(arrival_counts[i].long().item()):\n",
    "            results.append(i)\n",
    "    return torch.LongTensor(results)"
   ]
  },
  {
   "cell_type": "code",
   "execution_count": 65,
   "metadata": {},
   "outputs": [
    {
     "data": {
      "text/plain": [
       "tensor([0, 2, 4, 5, 5, 6, 7, 8, 8, 9, 9])"
      ]
     },
     "execution_count": 65,
     "metadata": {},
     "output_type": "execute_result"
    }
   ],
   "source": [
    "ind_counts_to_longs(torch.poisson(type_arrival_rates))"
   ]
  },
  {
   "cell_type": "code",
   "execution_count": 66,
   "metadata": {},
   "outputs": [],
   "source": [
    "def step_simulation(current_elems, match_edges, type_arrival_rates, type_departure_probs, match_thresh=0.8):\n",
    "    # first match elements\n",
    "    pool_after_match = current_elems[torch.max(match_edges, 0).values <= match_thresh]\n",
    "    \n",
    "    # now handle departures\n",
    "    if pool_after_match.shape[0] > 0:\n",
    "        remaining_elements_depart_prob = type_departure_probs[pool_after_match]\n",
    "        remain = torch.bernoulli(1 - remaining_elements_depart_prob).nonzero().view(-1)\n",
    "        remaining_elements = pool_after_match[remain]\n",
    "    else:\n",
    "        remaining_elements = pool_after_match\n",
    "    \n",
    "    # now get new elements (poisson?)\n",
    "    after_arrivals = torch.cat((remaining_elements, ind_counts_to_longs(torch.poisson(type_arrival_rates))))\n",
    "    \n",
    "    return after_arrivals"
   ]
  },
  {
   "cell_type": "code",
   "execution_count": 67,
   "metadata": {},
   "outputs": [
    {
     "data": {
      "text/plain": [
       "tensor([2, 4, 6, 7, 8, 9])"
      ]
     },
     "execution_count": 67,
     "metadata": {},
     "output_type": "execute_result"
    }
   ],
   "source": [
    "step_simulation(rand_types_pool, new_match, type_arrival_rates, type_departure_probs)"
   ]
  },
  {
   "cell_type": "code",
   "execution_count": 68,
   "metadata": {},
   "outputs": [],
   "source": [
    "type_departure_probs[9] = 0.1"
   ]
  },
  {
   "cell_type": "code",
   "execution_count": 69,
   "metadata": {},
   "outputs": [],
   "source": [
    "def edge_matrix(current_elems, e_weights_by_type):\n",
    "    # compute the matrix of edge weights by type of each element\n",
    "    # should actually be shaped as matrix, will be flattened later\n",
    "    \n",
    "    # optimize later\n",
    "    edge_mat = torch.zeros((current_elems.shape[0], current_elems.shape[0]))\n",
    "    for i in range(current_elems.shape[0]):\n",
    "        for j in range(current_elems.shape[0]):\n",
    "            u = current_elems[i]\n",
    "            v = current_elems[j]\n",
    "            edge_mat[i, j] = e_weights_by_type[u, v]\n",
    "            \n",
    "    return edge_mat"
   ]
  },
  {
   "cell_type": "code",
   "execution_count": 143,
   "metadata": {},
   "outputs": [],
   "source": [
    "def edge_matrix(current_elems, e_weights_by_type):\n",
    "    lhs_matrix = current_elems.repeat(current_elems.shape[0],1)\n",
    "    rhs_matrix = lhs_matrix.t()\n",
    "    return e_weights_by_type[lhs_matrix, rhs_matrix]"
   ]
  },
  {
   "cell_type": "code",
   "execution_count": 144,
   "metadata": {},
   "outputs": [],
   "source": [
    "xx = torch.rand((d,d))\n",
    "e_weights_by_type_rand = (xx + xx.t())"
   ]
  },
  {
   "cell_type": "code",
   "execution_count": 145,
   "metadata": {},
   "outputs": [
    {
     "data": {
      "text/plain": [
       "tensor([[0.9547, 1.4185, 0.5864, 0.9563, 1.1547, 1.6663, 0.2539, 0.2539, 0.9960,\n",
       "         1.1547, 1.1653, 1.6663, 0.2539, 1.4185, 0.9547, 0.9563, 0.9547, 1.6663,\n",
       "         0.9563, 0.2539],\n",
       "        [1.4185, 1.9032, 1.3810, 0.8674, 1.0650, 0.7773, 1.0954, 1.0954, 1.3132,\n",
       "         1.0650, 1.7020, 0.7773, 1.0954, 1.9032, 1.4185, 0.8674, 1.4185, 0.7773,\n",
       "         0.8674, 1.0954],\n",
       "        [0.5864, 1.3810, 0.6316, 0.9565, 0.9379, 1.3742, 0.2058, 0.2058, 1.2817,\n",
       "         0.9379, 0.4843, 1.3742, 0.2058, 1.3810, 0.5864, 0.9565, 0.5864, 1.3742,\n",
       "         0.9565, 0.2058],\n",
       "        [0.9563, 0.8674, 0.9565, 1.2611, 0.3153, 0.6002, 0.3547, 0.3547, 0.4204,\n",
       "         0.3153, 1.5843, 0.6002, 0.3547, 0.8674, 0.9563, 1.2611, 0.9563, 0.6002,\n",
       "         1.2611, 0.3547],\n",
       "        [1.1547, 1.0650, 0.9379, 0.3153, 1.6535, 1.3646, 0.9276, 0.9276, 0.8760,\n",
       "         1.6535, 0.2070, 1.3646, 0.9276, 1.0650, 1.1547, 0.3153, 1.1547, 1.3646,\n",
       "         0.3153, 0.9276],\n",
       "        [1.6663, 0.7773, 1.3742, 0.6002, 1.3646, 1.5535, 0.4381, 0.4381, 0.6658,\n",
       "         1.3646, 1.2876, 1.5535, 0.4381, 0.7773, 1.6663, 0.6002, 1.6663, 1.5535,\n",
       "         0.6002, 0.4381],\n",
       "        [0.2539, 1.0954, 0.2058, 0.3547, 0.9276, 0.4381, 1.6271, 1.6271, 0.8825,\n",
       "         0.9276, 0.2573, 0.4381, 1.6271, 1.0954, 0.2539, 0.3547, 0.2539, 0.4381,\n",
       "         0.3547, 1.6271],\n",
       "        [0.2539, 1.0954, 0.2058, 0.3547, 0.9276, 0.4381, 1.6271, 1.6271, 0.8825,\n",
       "         0.9276, 0.2573, 0.4381, 1.6271, 1.0954, 0.2539, 0.3547, 0.2539, 0.4381,\n",
       "         0.3547, 1.6271],\n",
       "        [0.9960, 1.3132, 1.2817, 0.4204, 0.8760, 0.6658, 0.8825, 0.8825, 0.3981,\n",
       "         0.8760, 1.4294, 0.6658, 0.8825, 1.3132, 0.9960, 0.4204, 0.9960, 0.6658,\n",
       "         0.4204, 0.8825],\n",
       "        [1.1547, 1.0650, 0.9379, 0.3153, 1.6535, 1.3646, 0.9276, 0.9276, 0.8760,\n",
       "         1.6535, 0.2070, 1.3646, 0.9276, 1.0650, 1.1547, 0.3153, 1.1547, 1.3646,\n",
       "         0.3153, 0.9276],\n",
       "        [1.1653, 1.7020, 0.4843, 1.5843, 0.2070, 1.2876, 0.2573, 0.2573, 1.4294,\n",
       "         0.2070, 0.5405, 1.2876, 0.2573, 1.7020, 1.1653, 1.5843, 1.1653, 1.2876,\n",
       "         1.5843, 0.2573],\n",
       "        [1.6663, 0.7773, 1.3742, 0.6002, 1.3646, 1.5535, 0.4381, 0.4381, 0.6658,\n",
       "         1.3646, 1.2876, 1.5535, 0.4381, 0.7773, 1.6663, 0.6002, 1.6663, 1.5535,\n",
       "         0.6002, 0.4381],\n",
       "        [0.2539, 1.0954, 0.2058, 0.3547, 0.9276, 0.4381, 1.6271, 1.6271, 0.8825,\n",
       "         0.9276, 0.2573, 0.4381, 1.6271, 1.0954, 0.2539, 0.3547, 0.2539, 0.4381,\n",
       "         0.3547, 1.6271],\n",
       "        [1.4185, 1.9032, 1.3810, 0.8674, 1.0650, 0.7773, 1.0954, 1.0954, 1.3132,\n",
       "         1.0650, 1.7020, 0.7773, 1.0954, 1.9032, 1.4185, 0.8674, 1.4185, 0.7773,\n",
       "         0.8674, 1.0954],\n",
       "        [0.9547, 1.4185, 0.5864, 0.9563, 1.1547, 1.6663, 0.2539, 0.2539, 0.9960,\n",
       "         1.1547, 1.1653, 1.6663, 0.2539, 1.4185, 0.9547, 0.9563, 0.9547, 1.6663,\n",
       "         0.9563, 0.2539],\n",
       "        [0.9563, 0.8674, 0.9565, 1.2611, 0.3153, 0.6002, 0.3547, 0.3547, 0.4204,\n",
       "         0.3153, 1.5843, 0.6002, 0.3547, 0.8674, 0.9563, 1.2611, 0.9563, 0.6002,\n",
       "         1.2611, 0.3547],\n",
       "        [0.9547, 1.4185, 0.5864, 0.9563, 1.1547, 1.6663, 0.2539, 0.2539, 0.9960,\n",
       "         1.1547, 1.1653, 1.6663, 0.2539, 1.4185, 0.9547, 0.9563, 0.9547, 1.6663,\n",
       "         0.9563, 0.2539],\n",
       "        [1.6663, 0.7773, 1.3742, 0.6002, 1.3646, 1.5535, 0.4381, 0.4381, 0.6658,\n",
       "         1.3646, 1.2876, 1.5535, 0.4381, 0.7773, 1.6663, 0.6002, 1.6663, 1.5535,\n",
       "         0.6002, 0.4381],\n",
       "        [0.9563, 0.8674, 0.9565, 1.2611, 0.3153, 0.6002, 0.3547, 0.3547, 0.4204,\n",
       "         0.3153, 1.5843, 0.6002, 0.3547, 0.8674, 0.9563, 1.2611, 0.9563, 0.6002,\n",
       "         1.2611, 0.3547],\n",
       "        [0.2539, 1.0954, 0.2058, 0.3547, 0.9276, 0.4381, 1.6271, 1.6271, 0.8825,\n",
       "         0.9276, 0.2573, 0.4381, 1.6271, 1.0954, 0.2539, 0.3547, 0.2539, 0.4381,\n",
       "         0.3547, 1.6271]])"
      ]
     },
     "execution_count": 145,
     "metadata": {},
     "output_type": "execute_result"
    }
   ],
   "source": [
    "edge_matrix(rand_types_pool, e_weights_by_type_rand)"
   ]
  },
  {
   "cell_type": "code",
   "execution_count": 146,
   "metadata": {},
   "outputs": [
    {
     "data": {
      "text/plain": [
       "<matplotlib.image.AxesImage at 0x7efb461d4a58>"
      ]
     },
     "execution_count": 146,
     "metadata": {},
     "output_type": "execute_result"
    },
    {
     "data": {
      "image/png": "[encoded data removed]",
      "text/plain": [
       "<Figure size 432x288 with 1 Axes>"
      ]
     },
     "metadata": {
      "needs_background": "light"
     },
     "output_type": "display_data"
    }
   ],
   "source": [
    "plt.imshow(rand_e_weight.numpy())"
   ]
  },
  {
   "cell_type": "code",
   "execution_count": 147,
   "metadata": {},
   "outputs": [
    {
     "data": {
      "text/plain": [
       "<matplotlib.image.AxesImage at 0x7efb6025c0f0>"
      ]
     },
     "execution_count": 147,
     "metadata": {},
     "output_type": "execute_result"
    },
    {
     "data": {
      "image/png": "[encoded data removed]",
      "text/plain": [
       "<Figure size 432x288 with 1 Axes>"
      ]
     },
     "metadata": {
      "needs_background": "light"
     },
     "output_type": "display_data"
    }
   ],
   "source": [
    "plt.imshow(edge_matrix(rand_types_pool, e_weights_by_type_rand).numpy())"
   ]
  },
  {
   "cell_type": "code",
   "execution_count": 148,
   "metadata": {},
   "outputs": [
    {
     "data": {
      "text/plain": [
       "tensor([[1.9032, 0.7773, 1.4185, 0.8674, 1.0954, 1.5463, 1.7020, 1.3132, 1.0650,\n",
       "         1.3810],\n",
       "        [0.7773, 1.5535, 1.6663, 0.6002, 0.4381, 1.2058, 1.2876, 0.6658, 1.3646,\n",
       "         1.3742],\n",
       "        [1.4185, 1.6663, 0.9547, 0.9563, 0.2539, 1.1154, 1.1653, 0.9960, 1.1547,\n",
       "         0.5864],\n",
       "        [0.8674, 0.6002, 0.9563, 1.2611, 0.3547, 0.6298, 1.5843, 0.4204, 0.3153,\n",
       "         0.9565],\n",
       "        [1.0954, 0.4381, 0.2539, 0.3547, 1.6271, 0.6371, 0.2573, 0.8825, 0.9276,\n",
       "         0.2058],\n",
       "        [1.5463, 1.2058, 1.1154, 0.6298, 0.6371, 0.0839, 0.6859, 1.6801, 1.2297,\n",
       "         1.5797],\n",
       "        [1.7020, 1.2876, 1.1653, 1.5843, 0.2573, 0.6859, 0.5405, 1.4294, 0.2070,\n",
       "         0.4843],\n",
       "        [1.3132, 0.6658, 0.9960, 0.4204, 0.8825, 1.6801, 1.4294, 0.3981, 0.8760,\n",
       "         1.2817],\n",
       "        [1.0650, 1.3646, 1.1547, 0.3153, 0.9276, 1.2297, 0.2070, 0.8760, 1.6535,\n",
       "         0.9379],\n",
       "        [1.3810, 1.3742, 0.5864, 0.9565, 0.2058, 1.5797, 0.4843, 1.2817, 0.9379,\n",
       "         0.6316]])"
      ]
     },
     "execution_count": 148,
     "metadata": {},
     "output_type": "execute_result"
    }
   ],
   "source": [
    "e_weights_by_type_rand"
   ]
  },
  {
   "cell_type": "code",
   "execution_count": 149,
   "metadata": {},
   "outputs": [],
   "source": [
    "# type_weights is the learned parameter\n",
    "\n",
    "def compute_matching(current_elems, curr_type_weights, e_weights_by_type, gamma=0.00001):\n",
    "    n = current_elems.shape[0]\n",
    "    A, b = make_matching_matrix(n)\n",
    "    A = torch.from_numpy(A).float()\n",
    "    b = torch.from_numpy(b).float()\n",
    "    # for some reason we need this randomness to end up with an actual matching\n",
    "    e_weights = edge_matrix(current_elems, e_weights_by_type)\n",
    "    jitter_e_weights = e_weights + 1e-4*torch.rand(n,n)\n",
    "    #e_weights = torch.rand(n,n)\n",
    "    model_params_quad = make_gurobi_model(A.detach().numpy(), b.detach().numpy(), None, None, gamma*np.eye(A.shape[1]))\n",
    "    func = QPFunction(verbose=False, solver=QPSolvers.GUROBI, model_params=model_params_quad)\n",
    "    \n",
    "    Q_mat = gamma*torch.eye(A.shape[1])\n",
    "    \n",
    "    curr_elem_weights = curr_type_weights[current_elems]\n",
    "    modified_edge_weights = jitter_e_weights - 0.5*(torch.unsqueeze(curr_elem_weights,0) + torch.unsqueeze(curr_elem_weights,1))\n",
    "    # may need some negative signs\n",
    "    resulting_match = func(Q_mat, -modified_edge_weights.view(-1), A, b, torch.Tensor(), torch.Tensor()).view(n,n)\n",
    "    return resulting_match, e_weights"
   ]
  },
  {
   "cell_type": "markdown",
   "metadata": {},
   "source": [
    "# a toy problem\n",
    "\n",
    "- d=5 types\n",
    "- type 0: arrives rarely, departs fast\n",
    "- type 1,2,3,4 arrive and depart reasonably\n",
    "- edge weights: 0-1 very good 10, 0-234 don't exist, all others 0.1 or whatever\n",
    "- should learn some small weight not to match 1, hopefully"
   ]
  },
  {
   "cell_type": "code",
   "execution_count": 151,
   "metadata": {},
   "outputs": [],
   "source": [
    "def toy_e_weights_type():\n",
    "    mat = 0.1*torch.ones(5,5)\n",
    "    mat[0,1] = 10.0\n",
    "    mat[1,0] = 10.0\n",
    "    mat[0,0] = 0.0\n",
    "    mat[0,2:5] = 0.0\n",
    "    mat[2:5,0] = 0.0\n",
    "    return mat\n",
    "\n",
    "toy_arrival_rates = torch.Tensor([0.1,1.0,1.0,1.0,1.0])\n",
    "toy_departure_probs = torch.Tensor([0.9,0.1,0.1,0.1,0.1])"
   ]
  },
  {
   "cell_type": "code",
   "execution_count": null,
   "metadata": {},
   "outputs": [],
   "source": []
  },
  {
   "cell_type": "code",
   "execution_count": 152,
   "metadata": {},
   "outputs": [],
   "source": [
    "def train_func(n_rounds=30, n_epochs=10):\n",
    "    n_rounds = 30\n",
    "    n_epochs = 10\n",
    "    e_weights_type = toy_e_weights_type()\n",
    "    init_pool = torch.LongTensor([1,1,2,2])\n",
    "    type_weights = torch.ones(5, requires_grad=True)\n",
    "    optimizer = torch.optim.Adam([type_weights], lr=1e-1, weight_decay=1e-1)\n",
    "    for e in range(n_epochs):\n",
    "        losses = []\n",
    "        print(f\"epoch {e}\")\n",
    "        curr_pool = init_pool.clone()\n",
    "        for r in range(n_rounds):\n",
    "            resulting_match, e_weights = compute_matching(curr_pool, type_weights, e_weights_type)\n",
    "            losses.append(-1.0*torch.sum(resulting_match * e_weights))\n",
    "            curr_pool = step_simulation(curr_pool, resulting_match, toy_arrival_rates, toy_departure_probs)\n",
    "        total_loss = torch.sum(torch.stack(losses))\n",
    "        optimizer.zero_grad()\n",
    "        total_loss.backward()\n",
    "        optimizer.step()\n",
    "    return type_weights"
   ]
  },
  {
   "cell_type": "code",
   "execution_count": 154,
   "metadata": {},
   "outputs": [
    {
     "name": "stdout",
     "output_type": "stream",
     "text": [
      "epoch 0\n",
      "epoch 1\n",
      "epoch 2\n",
      "epoch 3\n",
      "epoch 4\n",
      "epoch 5\n",
      "epoch 6\n",
      "epoch 7\n",
      "epoch 8\n",
      "epoch 9\n"
     ]
    }
   ],
   "source": [
    "result_weights = train_func()"
   ]
  },
  {
   "cell_type": "code",
   "execution_count": 155,
   "metadata": {},
   "outputs": [
    {
     "data": {
      "text/plain": [
       "tensor([0.6446, 0.0292, 0.0958, 0.0860, 0.1101], requires_grad=True)"
      ]
     },
     "execution_count": 155,
     "metadata": {},
     "output_type": "execute_result"
    }
   ],
   "source": [
    "result_weights"
   ]
  },
  {
   "cell_type": "code",
   "execution_count": null,
   "metadata": {},
   "outputs": [],
   "source": []
  }
 ],
 "metadata": {
  "kernelspec": {
   "display_name": "Python 3",
   "language": "python",
   "name": "python3"
  },
  "language_info": {
   "codemirror_mode": {
    "name": "ipython",
    "version": 3
   },
   "file_extension": ".py",
   "mimetype": "text/x-python",
   "name": "python",
   "nbconvert_exporter": "python",
   "pygments_lexer": "ipython3",
   "version": "3.7.3"
  }
 },
 "nbformat": 4,
 "nbformat_minor": 2
}
