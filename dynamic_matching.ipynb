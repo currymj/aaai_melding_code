{
 "cells": [
  {
   "cell_type": "code",
   "execution_count": 1,
   "metadata": {},
   "outputs": [],
   "source": [
    "%matplotlib inline\n",
    "\n",
    "import torch\n",
    "import torch.nn as nn\n",
    "import random\n",
    "import numpy as np\n",
    "from qpthlocal.qp import QPFunction\n",
    "from qpthlocal.qp import QPSolvers\n",
    "from qpthlocal.qp import make_gurobi_model\n",
    "import pickle\n",
    "import argparse\n",
    "import matplotlib.pyplot as plt\n",
    "from tqdm import tqdm_notebook as tqdm"
   ]
  },
  {
   "cell_type": "code",
   "execution_count": 2,
   "metadata": {},
   "outputs": [],
   "source": [
    "def make_matching_matrix(n):\n",
    "    \n",
    "    # n is num elements?\n",
    "    lhs = list(range(n))\n",
    "    rhs = list(range(n, 2*n))\n",
    "    \n",
    "    # n_vars is 1 per possible edge?\n",
    "    n_vars = len(lhs)*len(rhs)\n",
    "    # n_constraints is 1 for each lhs, 1 for each rhs, 1 per edge?\n",
    "    n_constraints = len(lhs) + len(rhs) + n_vars\n",
    "    A = np.zeros((n_constraints, n_vars))\n",
    "    b = np.zeros((n_constraints))\n",
    "    curr_idx = 0\n",
    "    edge_idx = {}\n",
    "    # get an index per edge\n",
    "    for u in lhs:\n",
    "        for v in rhs:\n",
    "            edge_idx[(u,v)] = curr_idx\n",
    "            curr_idx += 1\n",
    "    # A has rows of 2n elements, followed by n^2 edges\n",
    "    # A has cols of n^2 edges (so A @ x where x is edges)\n",
    "    for u in lhs:\n",
    "        for v in rhs:\n",
    "            # for u, flip on coefficient for only its outgoing edges\n",
    "            A[u, edge_idx[(u,v)]] = 1\n",
    "            # for v, flip on coefficient for only its incoming edges\n",
    "            A[v, edge_idx[(u,v)]] = 1\n",
    "            # for the edge itself, flip on a single -1 at its point only\n",
    "            A[len(lhs)+len(rhs)+edge_idx[(u,v)], edge_idx[(u,v)]] = -1\n",
    "    \n",
    "    # each element can have only 1 edge turned on in x\n",
    "    for u in lhs:\n",
    "        b[u] = 1\n",
    "    for u in rhs:\n",
    "        b[u] = 1\n",
    "    \n",
    "    \n",
    "    return A, b\n"
   ]
  },
  {
   "cell_type": "code",
   "execution_count": 3,
   "metadata": {},
   "outputs": [
    {
     "name": "stdout",
     "output_type": "stream",
     "text": [
      "Academic license - for non-commercial use only\n"
     ]
    }
   ],
   "source": [
    "A, b = make_matching_matrix(10)\n",
    "A = torch.from_numpy(A).float()\n",
    "b = torch.from_numpy(b).float()\n",
    "gamma = 0.001\n",
    "model_params_quad = make_gurobi_model(A.detach().numpy(), b.detach().numpy(), None, None, gamma*np.eye(A.shape[1]))\n"
   ]
  },
  {
   "cell_type": "code",
   "execution_count": null,
   "metadata": {},
   "outputs": [],
   "source": []
  },
  {
   "cell_type": "code",
   "execution_count": 4,
   "metadata": {},
   "outputs": [],
   "source": [
    "c_rand = -torch.rand(100, requires_grad=True)"
   ]
  },
  {
   "cell_type": "code",
   "execution_count": 5,
   "metadata": {},
   "outputs": [],
   "source": [
    "func = QPFunction(verbose=False, solver=QPSolvers.GUROBI, model_params=model_params_quad)"
   ]
  },
  {
   "cell_type": "code",
   "execution_count": 6,
   "metadata": {},
   "outputs": [],
   "source": [
    "# Q is gamma * I\n",
    "# we're not batching\n",
    "\n",
    "match = func(gamma*torch.eye(A.shape[1]), c_rand, A, b, torch.Tensor(), torch.Tensor())"
   ]
  },
  {
   "cell_type": "code",
   "execution_count": 7,
   "metadata": {},
   "outputs": [
    {
     "data": {
      "text/plain": [
       "[<matplotlib.lines.Line2D at 0x7efb89b652b0>]"
      ]
     },
     "execution_count": 7,
     "metadata": {},
     "output_type": "execute_result"
    },
    {
     "data": {
      "image/png": "[encoded data removed]",
      "text/plain": [
       "<Figure size 432x288 with 1 Axes>"
      ]
     },
     "metadata": {
      "needs_background": "light"
     },
     "output_type": "display_data"
    }
   ],
   "source": [
    "plt.plot(match.detach().numpy().flatten())"
   ]
  },
  {
   "cell_type": "code",
   "execution_count": 8,
   "metadata": {},
   "outputs": [],
   "source": [
    "match.sum().backward()"
   ]
  },
  {
   "cell_type": "markdown",
   "metadata": {},
   "source": [
    "## plan for dynamic setting:\n",
    "- d types\n",
    "- pool of elements curr_elem each with type (n at each time step)\n",
    "- known edge weights between each type (?) e_weight (size n^2, recomputed at each time step)\n",
    "- learned_coeff weights modify known edge weights (weights for each type, effectively pair of types, so d of these)\n",
    "- perform match, true value of match is e_weight * x\n",
    "- remove elements, recreate curr_elem, recreate e_weight\n",
    "\n",
    "some thoughts: encoding type of pool of elements should be either LongTensor or one-hot so can get gradients after indexing\n",
    "\n"
   ]
  },
  {
   "cell_type": "code",
   "execution_count": 9,
   "metadata": {},
   "outputs": [],
   "source": [
    "d=10\n",
    "rand_d_weights = torch.rand(d, requires_grad=True)"
   ]
  },
  {
   "cell_type": "code",
   "execution_count": 10,
   "metadata": {},
   "outputs": [],
   "source": [
    "n = 20\n",
    "rand_types_pool = torch.randint(d,(n,))"
   ]
  },
  {
   "cell_type": "code",
   "execution_count": 11,
   "metadata": {},
   "outputs": [],
   "source": [
    "curr_weights = rand_d_weights[rand_types_pool]"
   ]
  },
  {
   "cell_type": "code",
   "execution_count": 12,
   "metadata": {},
   "outputs": [],
   "source": [
    "rand_e_weight = torch.rand(n,n) # in reality should be based on types (but not on weights)"
   ]
  },
  {
   "cell_type": "code",
   "execution_count": 13,
   "metadata": {},
   "outputs": [],
   "source": [
    "modified_edge_weights = rand_e_weight + 0.5*(torch.unsqueeze(curr_weights,0) + torch.unsqueeze(curr_weights, 1))"
   ]
  },
  {
   "cell_type": "code",
   "execution_count": 14,
   "metadata": {},
   "outputs": [],
   "source": [
    "A, b = make_matching_matrix(n)\n",
    "A = torch.from_numpy(A).float()\n",
    "b = torch.from_numpy(b).float()\n",
    "gamma = 0.0001\n",
    "model_params_quad = make_gurobi_model(A.detach().numpy(), b.detach().numpy(), None, None, gamma*np.eye(A.shape[1]))"
   ]
  },
  {
   "cell_type": "code",
   "execution_count": 15,
   "metadata": {},
   "outputs": [],
   "source": [
    "func = QPFunction(verbose=False, solver=QPSolvers.GUROBI, model_params = model_params_quad)"
   ]
  },
  {
   "cell_type": "code",
   "execution_count": 16,
   "metadata": {},
   "outputs": [],
   "source": [
    "resulting_match = func(gamma*torch.eye(A.shape[1]), -modified_edge_weights.view(-1), A, b, torch.Tensor(), torch.Tensor()).view(20,20)"
   ]
  },
  {
   "cell_type": "code",
   "execution_count": 17,
   "metadata": {},
   "outputs": [
    {
     "data": {
      "text/plain": [
       "tensor([[1.0088, 0.5033, 1.2707, 0.6555, 1.2277, 0.5419, 0.8785, 1.0661, 0.5055,\n",
       "         0.5260, 1.2953, 0.8800, 0.6355, 1.2751, 1.1322, 0.7010, 1.2724, 1.1152,\n",
       "         0.5850, 1.2733],\n",
       "        [0.7345, 0.3789, 1.2510, 1.4393, 1.4939, 0.6846, 0.8518, 1.0401, 0.7943,\n",
       "         1.1400, 1.3639, 0.7931, 1.1558, 0.6792, 1.4045, 1.3271, 0.3828, 0.5607,\n",
       "         0.6380, 0.5357],\n",
       "        [0.7101, 1.1220, 1.4005, 1.3227, 1.6695, 0.7999, 0.5881, 0.6194, 0.5002,\n",
       "         0.9990, 0.9013, 1.4565, 1.2269, 0.6959, 0.7814, 1.0385, 1.0641, 0.4557,\n",
       "         1.4060, 1.2536],\n",
       "        [1.1576, 1.2476, 1.4076, 1.2014, 0.9687, 1.2802, 1.6432, 0.9330, 0.9339,\n",
       "         1.1739, 1.2075, 0.7469, 1.5391, 1.4376, 1.6369, 1.4834, 1.3859, 0.5562,\n",
       "         1.6778, 1.5626],\n",
       "        [1.3931, 1.4465, 0.8822, 1.2957, 1.3464, 1.3946, 1.1231, 1.1700, 1.2848,\n",
       "         0.9567, 1.1326, 1.1568, 0.9697, 1.3881, 0.7585, 1.4687, 1.1809, 1.1645,\n",
       "         0.8788, 0.7658],\n",
       "        [1.2316, 0.4184, 0.8966, 1.5160, 1.0595, 0.9909, 0.7223, 0.7897, 0.4247,\n",
       "         0.8045, 0.9010, 0.5206, 0.6918, 0.9446, 0.9670, 1.2872, 0.6520, 0.5986,\n",
       "         0.9572, 1.2156],\n",
       "        [1.3465, 0.4973, 0.7454, 0.6966, 1.4550, 0.4541, 1.4594, 0.6780, 1.2535,\n",
       "         1.3117, 1.1433, 0.4858, 0.7121, 1.4268, 0.9558, 0.4852, 0.5173, 1.4003,\n",
       "         0.6405, 0.7844],\n",
       "        [1.2952, 0.5997, 0.5828, 0.7625, 0.8251, 0.9294, 1.2579, 0.4957, 1.2899,\n",
       "         0.5932, 1.5338, 0.9836, 0.4721, 0.6230, 0.5594, 0.4788, 0.7802, 0.4954,\n",
       "         0.5850, 1.3726],\n",
       "        [0.7167, 0.5342, 1.1569, 1.2081, 0.8574, 0.9963, 1.3047, 1.1605, 1.2608,\n",
       "         1.3823, 0.6201, 1.2140, 0.6361, 0.9465, 1.3452, 1.0571, 1.0166, 1.0704,\n",
       "         0.4920, 0.8075],\n",
       "        [0.9699, 0.8058, 0.7541, 1.0708, 1.2411, 0.9702, 1.0550, 1.2400, 1.0539,\n",
       "         1.0285, 0.9656, 1.0299, 1.1182, 0.7173, 1.5400, 0.5114, 1.1090, 0.6677,\n",
       "         0.9435, 1.5404],\n",
       "        [1.2292, 1.4437, 1.6421, 1.6976, 1.0214, 0.6051, 1.4870, 1.4874, 0.7108,\n",
       "         1.6718, 1.0015, 1.3878, 1.1639, 1.4988, 0.8326, 0.6962, 0.6023, 1.4213,\n",
       "         1.1464, 1.0620],\n",
       "        [1.1763, 1.0399, 1.2894, 0.7050, 0.7205, 0.9355, 0.7734, 0.7680, 0.9401,\n",
       "         0.7808, 1.4625, 0.5804, 0.6331, 0.4690, 0.5935, 0.9452, 1.2216, 0.5471,\n",
       "         1.2067, 1.5130],\n",
       "        [0.8313, 0.6028, 0.8669, 0.6622, 1.0681, 1.3408, 1.4701, 0.8962, 1.1298,\n",
       "         1.0389, 1.1235, 1.1333, 1.1835, 0.8576, 0.8082, 0.3712, 1.3310, 0.4474,\n",
       "         1.3324, 0.7435],\n",
       "        [1.0404, 0.6857, 0.5463, 1.1862, 1.0196, 0.8318, 0.7441, 0.4146, 0.9783,\n",
       "         0.5658, 1.3298, 1.0632, 0.8426, 1.2847, 0.6518, 0.6758, 1.1470, 1.2970,\n",
       "         0.8005, 1.1060],\n",
       "        [0.6152, 0.5349, 0.7715, 1.5688, 0.8260, 1.4160, 1.1707, 1.0649, 1.3881,\n",
       "         1.1247, 1.6744, 1.1679, 0.7228, 0.5113, 0.5789, 0.4707, 0.4724, 1.0753,\n",
       "         1.1588, 1.4839],\n",
       "        [0.5505, 1.2200, 0.6779, 1.1475, 0.9986, 0.7093, 0.8479, 0.8028, 0.5812,\n",
       "         1.1094, 1.4524, 0.4777, 0.9266, 1.3090, 1.4322, 0.8918, 0.6635, 1.2013,\n",
       "         0.4861, 1.4856],\n",
       "        [0.6645, 0.4883, 0.5118, 1.1165, 0.9962, 1.0031, 1.2232, 0.5205, 0.4565,\n",
       "         0.8787, 0.6611, 0.8418, 0.8941, 0.6663, 0.5987, 0.8933, 0.4112, 1.1807,\n",
       "         0.8433, 1.2307],\n",
       "        [1.1508, 1.0699, 1.2138, 1.4094, 0.5430, 0.3098, 1.0418, 1.1859, 1.0370,\n",
       "         1.2695, 1.0670, 0.3617, 0.8198, 1.1909, 1.3598, 0.8534, 0.9815, 0.9618,\n",
       "         1.1807, 0.7661],\n",
       "        [0.7624, 0.5887, 0.8197, 1.1477, 1.5121, 0.5149, 1.5773, 1.1425, 1.2550,\n",
       "         0.8496, 0.7228, 1.2188, 0.7520, 1.4566, 0.8123, 1.2390, 1.2045, 0.6300,\n",
       "         1.5094, 0.7895],\n",
       "        [1.5362, 0.6674, 0.8136, 1.3467, 1.0335, 1.2959, 1.5032, 0.9395, 1.1032,\n",
       "         1.1928, 1.3954, 1.4503, 0.9874, 1.1392, 1.2777, 1.4614, 1.2621, 1.3227,\n",
       "         1.3726, 1.7165]], grad_fn=<AddBackward0>)"
      ]
     },
     "execution_count": 17,
     "metadata": {},
     "output_type": "execute_result"
    }
   ],
   "source": [
    "modified_edge_weights"
   ]
  },
  {
   "cell_type": "code",
   "execution_count": 18,
   "metadata": {},
   "outputs": [
    {
     "data": {
      "text/plain": [
       "<matplotlib.colorbar.Colorbar at 0x7efb8063f048>"
      ]
     },
     "execution_count": 18,
     "metadata": {},
     "output_type": "execute_result"
    },
    {
     "data": {
      "image/png": "[encoded data removed]",
      "text/plain": [
       "<Figure size 432x288 with 2 Axes>"
      ]
     },
     "metadata": {
      "needs_background": "light"
     },
     "output_type": "display_data"
    }
   ],
   "source": [
    "plt.imshow(resulting_match.detach().numpy())\n",
    "plt.colorbar()"
   ]
  },
  {
   "cell_type": "code",
   "execution_count": 19,
   "metadata": {},
   "outputs": [],
   "source": [
    "true_cost = torch.sum(resulting_match * rand_e_weight)"
   ]
  },
  {
   "cell_type": "code",
   "execution_count": 20,
   "metadata": {},
   "outputs": [
    {
     "data": {
      "text/plain": [
       "tensor(18.8701, grad_fn=<SumBackward0>)"
      ]
     },
     "execution_count": 20,
     "metadata": {},
     "output_type": "execute_result"
    }
   ],
   "source": [
    "true_cost"
   ]
  },
  {
   "cell_type": "markdown",
   "metadata": {},
   "source": [
    "next step: decide on arrival/departure model -- presumably it should be type-dependent (one rare type with one really good edge to one other type)"
   ]
  },
  {
   "cell_type": "code",
   "execution_count": 21,
   "metadata": {},
   "outputs": [],
   "source": [
    "type_arrival_rates = torch.rand(d)\n",
    "type_departure_probs = torch.rand(d)"
   ]
  },
  {
   "cell_type": "code",
   "execution_count": 22,
   "metadata": {},
   "outputs": [
    {
     "data": {
      "text/plain": [
       "tensor([0, 0, 0, 0, 0, 0, 0, 0, 0, 0, 0, 0, 0, 0, 0, 0, 0, 0, 0, 0],\n",
       "       dtype=torch.uint8)"
      ]
     },
     "execution_count": 22,
     "metadata": {},
     "output_type": "execute_result"
    }
   ],
   "source": [
    "torch.max(resulting_match, 0).values != 1"
   ]
  },
  {
   "cell_type": "code",
   "execution_count": 23,
   "metadata": {},
   "outputs": [],
   "source": [
    "new_match = resulting_match.clone()"
   ]
  },
  {
   "cell_type": "code",
   "execution_count": 24,
   "metadata": {},
   "outputs": [],
   "source": [
    "new_match[19,15] = 0.0"
   ]
  },
  {
   "cell_type": "code",
   "execution_count": 25,
   "metadata": {},
   "outputs": [],
   "source": [
    "new_match[16,0] = 0.0"
   ]
  },
  {
   "cell_type": "code",
   "execution_count": 26,
   "metadata": {},
   "outputs": [
    {
     "data": {
      "text/plain": [
       "tensor([0., 0., 1., 0., 1., 0., 0., 0., 0., 1.])"
      ]
     },
     "execution_count": 26,
     "metadata": {},
     "output_type": "execute_result"
    }
   ],
   "source": [
    "torch.poisson(type_arrival_rates)"
   ]
  },
  {
   "cell_type": "code",
   "execution_count": 27,
   "metadata": {},
   "outputs": [],
   "source": [
    "def ind_counts_to_longs(arrival_counts):\n",
    "    # optimize later\n",
    "    results = []\n",
    "    for i in range(arrival_counts.shape[0]):\n",
    "        for j in range(arrival_counts[i].long().item()):\n",
    "            results.append(i)\n",
    "    return torch.LongTensor(results)"
   ]
  },
  {
   "cell_type": "code",
   "execution_count": 28,
   "metadata": {},
   "outputs": [
    {
     "data": {
      "text/plain": [
       "tensor([7, 8])"
      ]
     },
     "execution_count": 28,
     "metadata": {},
     "output_type": "execute_result"
    }
   ],
   "source": [
    "ind_counts_to_longs(torch.poisson(type_arrival_rates))"
   ]
  },
  {
   "cell_type": "code",
   "execution_count": 53,
   "metadata": {},
   "outputs": [],
   "source": [
    "def step_simulation(current_elems, match_edges, type_arrival_rates, type_departure_probs, match_thresh=0.8):\n",
    "    # first match elements\n",
    "    pool_after_match = current_elems[torch.max(match_edges, 0).values <= match_thresh]\n",
    "    \n",
    "    # now handle departures\n",
    "    if pool_after_match.shape[0] > 0:\n",
    "        remaining_elements_depart_prob = type_departure_probs[pool_after_match]\n",
    "        remain = torch.bernoulli(1 - remaining_elements_depart_prob).nonzero().view(-1)\n",
    "        remaining_elements = pool_after_match[remain]\n",
    "    else:\n",
    "        remaining_elements = pool_after_match\n",
    "    \n",
    "    # now get new elements (poisson?)\n",
    "    after_arrivals = torch.cat((remaining_elements, ind_counts_to_longs(torch.poisson(type_arrival_rates))))\n",
    "    \n",
    "    return after_arrivals"
   ]
  },
  {
   "cell_type": "code",
   "execution_count": 54,
   "metadata": {},
   "outputs": [
    {
     "data": {
      "text/plain": [
       "tensor([0, 1, 2, 2, 2, 2, 4, 5, 5, 8])"
      ]
     },
     "execution_count": 54,
     "metadata": {},
     "output_type": "execute_result"
    }
   ],
   "source": [
    "step_simulation(rand_types_pool, new_match, type_arrival_rates, type_departure_probs)"
   ]
  },
  {
   "cell_type": "code",
   "execution_count": 31,
   "metadata": {},
   "outputs": [],
   "source": [
    "type_departure_probs[9] = 0.1"
   ]
  },
  {
   "cell_type": "code",
   "execution_count": 32,
   "metadata": {},
   "outputs": [],
   "source": [
    "def edge_matrix(current_elems, e_weights_by_type):\n",
    "    # compute the matrix of edge weights by type of each element\n",
    "    # should actually be shaped as matrix, will be flattened later\n",
    "    \n",
    "    # optimize later\n",
    "    edge_mat = torch.zeros((current_elems.shape[0], current_elems.shape[0]))\n",
    "    for i in range(current_elems.shape[0]):\n",
    "        for j in range(current_elems.shape[0]):\n",
    "            u = current_elems[i]\n",
    "            v = current_elems[j]\n",
    "            edge_mat[i, j] = e_weights_by_type[u, v]\n",
    "            \n",
    "    return edge_mat"
   ]
  },
  {
   "cell_type": "code",
   "execution_count": 33,
   "metadata": {},
   "outputs": [],
   "source": [
    "xx = torch.rand((d,d))\n",
    "e_weights_by_type_rand = (xx + xx.t())"
   ]
  },
  {
   "cell_type": "code",
   "execution_count": 34,
   "metadata": {},
   "outputs": [
    {
     "data": {
      "text/plain": [
       "tensor([[0.7397, 0.8554, 1.2337, 0.7997, 0.7321, 1.4871, 1.0507, 1.4871, 1.4871,\n",
       "         1.0507, 0.7997, 0.8554, 0.7397, 1.4871, 1.0507, 0.8554, 0.8554, 1.2390,\n",
       "         1.2337, 0.7321],\n",
       "        [0.8554, 0.4638, 0.4957, 0.9285, 0.8939, 0.7790, 1.3341, 0.7790, 0.7790,\n",
       "         1.3341, 0.9285, 0.4638, 0.8554, 0.7790, 1.3341, 0.4638, 0.4638, 1.4925,\n",
       "         0.4957, 0.8939],\n",
       "        [1.2337, 0.4957, 0.2027, 0.7453, 1.0799, 1.0757, 0.9764, 1.0757, 1.0757,\n",
       "         0.9764, 0.7453, 0.4957, 1.2337, 1.0757, 0.9764, 0.4957, 0.4957, 1.1184,\n",
       "         0.2027, 1.0799],\n",
       "        [0.7997, 0.9285, 0.7453, 0.3107, 0.6095, 1.8946, 0.9017, 1.8946, 1.8946,\n",
       "         0.9017, 0.3107, 0.9285, 0.7997, 1.8946, 0.9017, 0.9285, 0.9285, 1.6139,\n",
       "         0.7453, 0.6095],\n",
       "        [0.7321, 0.8939, 1.0799, 0.6095, 0.3429, 0.8375, 0.7919, 0.8375, 0.8375,\n",
       "         0.7919, 0.6095, 0.8939, 0.7321, 0.8375, 0.7919, 0.8939, 0.8939, 0.9019,\n",
       "         1.0799, 0.3429],\n",
       "        [1.4871, 0.7790, 1.0757, 1.8946, 0.8375, 1.2590, 0.6180, 1.2590, 1.2590,\n",
       "         0.6180, 1.8946, 0.7790, 1.4871, 1.2590, 0.6180, 0.7790, 0.7790, 0.9239,\n",
       "         1.0757, 0.8375],\n",
       "        [1.0507, 1.3341, 0.9764, 0.9017, 0.7919, 0.6180, 1.6902, 0.6180, 0.6180,\n",
       "         1.6902, 0.9017, 1.3341, 1.0507, 0.6180, 1.6902, 1.3341, 1.3341, 0.9446,\n",
       "         0.9764, 0.7919],\n",
       "        [1.4871, 0.7790, 1.0757, 1.8946, 0.8375, 1.2590, 0.6180, 1.2590, 1.2590,\n",
       "         0.6180, 1.8946, 0.7790, 1.4871, 1.2590, 0.6180, 0.7790, 0.7790, 0.9239,\n",
       "         1.0757, 0.8375],\n",
       "        [1.4871, 0.7790, 1.0757, 1.8946, 0.8375, 1.2590, 0.6180, 1.2590, 1.2590,\n",
       "         0.6180, 1.8946, 0.7790, 1.4871, 1.2590, 0.6180, 0.7790, 0.7790, 0.9239,\n",
       "         1.0757, 0.8375],\n",
       "        [1.0507, 1.3341, 0.9764, 0.9017, 0.7919, 0.6180, 1.6902, 0.6180, 0.6180,\n",
       "         1.6902, 0.9017, 1.3341, 1.0507, 0.6180, 1.6902, 1.3341, 1.3341, 0.9446,\n",
       "         0.9764, 0.7919],\n",
       "        [0.7997, 0.9285, 0.7453, 0.3107, 0.6095, 1.8946, 0.9017, 1.8946, 1.8946,\n",
       "         0.9017, 0.3107, 0.9285, 0.7997, 1.8946, 0.9017, 0.9285, 0.9285, 1.6139,\n",
       "         0.7453, 0.6095],\n",
       "        [0.8554, 0.4638, 0.4957, 0.9285, 0.8939, 0.7790, 1.3341, 0.7790, 0.7790,\n",
       "         1.3341, 0.9285, 0.4638, 0.8554, 0.7790, 1.3341, 0.4638, 0.4638, 1.4925,\n",
       "         0.4957, 0.8939],\n",
       "        [0.7397, 0.8554, 1.2337, 0.7997, 0.7321, 1.4871, 1.0507, 1.4871, 1.4871,\n",
       "         1.0507, 0.7997, 0.8554, 0.7397, 1.4871, 1.0507, 0.8554, 0.8554, 1.2390,\n",
       "         1.2337, 0.7321],\n",
       "        [1.4871, 0.7790, 1.0757, 1.8946, 0.8375, 1.2590, 0.6180, 1.2590, 1.2590,\n",
       "         0.6180, 1.8946, 0.7790, 1.4871, 1.2590, 0.6180, 0.7790, 0.7790, 0.9239,\n",
       "         1.0757, 0.8375],\n",
       "        [1.0507, 1.3341, 0.9764, 0.9017, 0.7919, 0.6180, 1.6902, 0.6180, 0.6180,\n",
       "         1.6902, 0.9017, 1.3341, 1.0507, 0.6180, 1.6902, 1.3341, 1.3341, 0.9446,\n",
       "         0.9764, 0.7919],\n",
       "        [0.8554, 0.4638, 0.4957, 0.9285, 0.8939, 0.7790, 1.3341, 0.7790, 0.7790,\n",
       "         1.3341, 0.9285, 0.4638, 0.8554, 0.7790, 1.3341, 0.4638, 0.4638, 1.4925,\n",
       "         0.4957, 0.8939],\n",
       "        [0.8554, 0.4638, 0.4957, 0.9285, 0.8939, 0.7790, 1.3341, 0.7790, 0.7790,\n",
       "         1.3341, 0.9285, 0.4638, 0.8554, 0.7790, 1.3341, 0.4638, 0.4638, 1.4925,\n",
       "         0.4957, 0.8939],\n",
       "        [1.2390, 1.4925, 1.1184, 1.6139, 0.9019, 0.9239, 0.9446, 0.9239, 0.9239,\n",
       "         0.9446, 1.6139, 1.4925, 1.2390, 0.9239, 0.9446, 1.4925, 1.4925, 1.0116,\n",
       "         1.1184, 0.9019],\n",
       "        [1.2337, 0.4957, 0.2027, 0.7453, 1.0799, 1.0757, 0.9764, 1.0757, 1.0757,\n",
       "         0.9764, 0.7453, 0.4957, 1.2337, 1.0757, 0.9764, 0.4957, 0.4957, 1.1184,\n",
       "         0.2027, 1.0799],\n",
       "        [0.7321, 0.8939, 1.0799, 0.6095, 0.3429, 0.8375, 0.7919, 0.8375, 0.8375,\n",
       "         0.7919, 0.6095, 0.8939, 0.7321, 0.8375, 0.7919, 0.8939, 0.8939, 0.9019,\n",
       "         1.0799, 0.3429]])"
      ]
     },
     "execution_count": 34,
     "metadata": {},
     "output_type": "execute_result"
    }
   ],
   "source": [
    "edge_matrix(rand_types_pool, e_weights_by_type_rand)"
   ]
  },
  {
   "cell_type": "code",
   "execution_count": 35,
   "metadata": {},
   "outputs": [
    {
     "data": {
      "text/plain": [
       "<matplotlib.image.AxesImage at 0x7efb805d7908>"
      ]
     },
     "execution_count": 35,
     "metadata": {},
     "output_type": "execute_result"
    },
    {
     "data": {
      "image/png": "[encoded data removed]",
      "text/plain": [
       "<Figure size 432x288 with 1 Axes>"
      ]
     },
     "metadata": {
      "needs_background": "light"
     },
     "output_type": "display_data"
    }
   ],
   "source": [
    "plt.imshow(rand_e_weight.numpy())"
   ]
  },
  {
   "cell_type": "code",
   "execution_count": 36,
   "metadata": {},
   "outputs": [
    {
     "data": {
      "text/plain": [
       "<matplotlib.image.AxesImage at 0x7efb8052d080>"
      ]
     },
     "execution_count": 36,
     "metadata": {},
     "output_type": "execute_result"
    },
    {
     "data": {
      "image/png": "[encoded data removed]",
      "text/plain": [
       "<Figure size 432x288 with 1 Axes>"
      ]
     },
     "metadata": {
      "needs_background": "light"
     },
     "output_type": "display_data"
    }
   ],
   "source": [
    "plt.imshow(edge_matrix(rand_types_pool, e_weights_by_type_rand).numpy())"
   ]
  },
  {
   "cell_type": "code",
   "execution_count": 42,
   "metadata": {},
   "outputs": [
    {
     "data": {
      "text/plain": [
       "tensor([[1.6902, 0.1952, 0.9446, 1.3341, 1.0847, 1.0507, 0.9764, 0.6180, 0.9017,\n",
       "         0.7919],\n",
       "        [0.1952, 1.4336, 1.2223, 1.0115, 1.3698, 0.6467, 0.9974, 0.9147, 1.6397,\n",
       "         0.9531],\n",
       "        [0.9446, 1.2223, 1.0116, 1.4925, 0.5199, 1.2390, 1.1184, 0.9239, 1.6139,\n",
       "         0.9019],\n",
       "        [1.3341, 1.0115, 1.4925, 0.4638, 1.3867, 0.8554, 0.4957, 0.7790, 0.9285,\n",
       "         0.8939],\n",
       "        [1.0847, 1.3698, 0.5199, 1.3867, 0.4670, 0.6373, 1.6869, 1.8842, 1.4406,\n",
       "         0.5605],\n",
       "        [1.0507, 0.6467, 1.2390, 0.8554, 0.6373, 0.7397, 1.2337, 1.4871, 0.7997,\n",
       "         0.7321],\n",
       "        [0.9764, 0.9974, 1.1184, 0.4957, 1.6869, 1.2337, 0.2027, 1.0757, 0.7453,\n",
       "         1.0799],\n",
       "        [0.6180, 0.9147, 0.9239, 0.7790, 1.8842, 1.4871, 1.0757, 1.2590, 1.8946,\n",
       "         0.8375],\n",
       "        [0.9017, 1.6397, 1.6139, 0.9285, 1.4406, 0.7997, 0.7453, 1.8946, 0.3107,\n",
       "         0.6095],\n",
       "        [0.7919, 0.9531, 0.9019, 0.8939, 0.5605, 0.7321, 1.0799, 0.8375, 0.6095,\n",
       "         0.3429]])"
      ]
     },
     "execution_count": 42,
     "metadata": {},
     "output_type": "execute_result"
    }
   ],
   "source": [
    "e_weights_by_type_rand"
   ]
  },
  {
   "cell_type": "code",
   "execution_count": 37,
   "metadata": {},
   "outputs": [],
   "source": [
    "# type_weights is the learned parameter\n",
    "\n",
    "def compute_matching(current_elems, curr_type_weights, e_weights_by_type, gamma=0.00001):\n",
    "    n = current_elems.shape[0]\n",
    "    A, b = make_matching_matrix(n)\n",
    "    A = torch.from_numpy(A).float()\n",
    "    b = torch.from_numpy(b).float()\n",
    "    # for some reason we need this randomness to end up with an actual matching\n",
    "    e_weights = edge_matrix(current_elems, e_weights_by_type)\n",
    "    jitter_e_weights = e_weights + 1e-4*torch.rand(n,n)\n",
    "    #e_weights = torch.rand(n,n)\n",
    "    model_params_quad = make_gurobi_model(A.detach().numpy(), b.detach().numpy(), None, None, gamma*np.eye(A.shape[1]))\n",
    "    func = QPFunction(verbose=False, solver=QPSolvers.GUROBI, model_params=model_params_quad)\n",
    "    \n",
    "    Q_mat = gamma*torch.eye(A.shape[1])\n",
    "    \n",
    "    curr_elem_weights = curr_type_weights[current_elems]\n",
    "    modified_edge_weights = jitter_e_weights + 0.5*(torch.unsqueeze(curr_elem_weights,0) + torch.unsqueeze(curr_elem_weights,1))\n",
    "    # may need some negative signs\n",
    "    resulting_match = func(Q_mat, -modified_edge_weights.view(-1), A, b, torch.Tensor(), torch.Tensor()).view(n,n)\n",
    "    return resulting_match, e_weights"
   ]
  },
  {
   "cell_type": "code",
   "execution_count": 38,
   "metadata": {},
   "outputs": [],
   "source": [
    "new_match, e_weights = compute_matching(rand_types_pool, rand_d_weights, e_weights_by_type_rand, gamma=1e-7)"
   ]
  },
  {
   "cell_type": "code",
   "execution_count": 39,
   "metadata": {},
   "outputs": [
    {
     "data": {
      "text/plain": [
       "<matplotlib.colorbar.Colorbar at 0x7efb804df438>"
      ]
     },
     "execution_count": 39,
     "metadata": {},
     "output_type": "execute_result"
    },
    {
     "data": {
      "image/png": "[encoded data removed]",
      "text/plain": [
       "<Figure size 432x288 with 2 Axes>"
      ]
     },
     "metadata": {
      "needs_background": "light"
     },
     "output_type": "display_data"
    }
   ],
   "source": [
    "plt.imshow(new_match.detach().numpy())\n",
    "plt.colorbar()"
   ]
  },
  {
   "cell_type": "code",
   "execution_count": 40,
   "metadata": {},
   "outputs": [],
   "source": [
    "loss = torch.sum(new_match*e_weights)\n"
   ]
  },
  {
   "cell_type": "code",
   "execution_count": 41,
   "metadata": {},
   "outputs": [],
   "source": [
    "loss.backward()"
   ]
  },
  {
   "cell_type": "markdown",
   "metadata": {},
   "source": [
    "# a toy problem\n",
    "\n",
    "- d=5 types\n",
    "- type 0: arrives rarely, departs fast\n",
    "- type 1,2,3,4 arrive and depart reasonably\n",
    "- edge weights: 0-1 very good 10, 0-234 don't exist, all others 0.1 or whatever\n",
    "- should learn some small weight not to match 1, hopefully"
   ]
  },
  {
   "cell_type": "code",
   "execution_count": 94,
   "metadata": {},
   "outputs": [],
   "source": [
    "def toy_e_weights_type():\n",
    "    mat = 0.1*torch.ones(5,5)\n",
    "    mat[0,1] = 10.0\n",
    "    mat[1,0] = 10.0\n",
    "    mat[0,0] = 0.0\n",
    "    mat[0,2:5] = 0.0\n",
    "    mat[2:5,0] = 0.0\n",
    "    return mat\n",
    "\n",
    "toy_arrival_rates = torch.Tensor([0.1,1.0,1.0,1.0,1.0])\n",
    "toy_departure_probs = torch.Tensor([0.9,0.1,0.1,0.1,0.1])"
   ]
  },
  {
   "cell_type": "code",
   "execution_count": null,
   "metadata": {},
   "outputs": [],
   "source": []
  },
  {
   "cell_type": "code",
   "execution_count": 97,
   "metadata": {},
   "outputs": [
    {
     "data": {
      "application/vnd.jupyter.widget-view+json": {
       "model_id": "68b9767f9f1041ada0493dcd5d9279e7",
       "version_major": 2,
       "version_minor": 0
      },
      "text/plain": [
       "HBox(children=(IntProgress(value=0, max=10), HTML(value='')))"
      ]
     },
     "metadata": {},
     "output_type": "display_data"
    },
    {
     "name": "stdout",
     "output_type": "stream",
     "text": [
      "\n"
     ]
    }
   ],
   "source": [
    "n_rounds = 10\n",
    "n_epochs = 10\n",
    "e_weights_type = toy_e_weights_type()\n",
    "init_pool = torch.LongTensor([0,1,2,3,4])\n",
    "type_weights = torch.ones(5, requires_grad=True)\n",
    "optimizer = torch.optim.Adam([type_weights], lr=1e-1, weight_decay=1e-1)\n",
    "for e in tqdm(range(n_epochs)):\n",
    "    losses = []\n",
    "    curr_pool = init_pool.clone()\n",
    "    for r in range(n_rounds):\n",
    "        resulting_match, e_weights = compute_matching(curr_pool, type_weights, e_weights_type)\n",
    "        losses.append(-1.0*torch.sum(resulting_match * e_weights))\n",
    "        curr_pool = step_simulation(curr_pool, resulting_match, toy_arrival_rates, toy_departure_probs)\n",
    "    total_loss = torch.sum(torch.stack(losses))\n",
    "    optimizer.zero_grad()\n",
    "    total_loss.backward()\n",
    "    optimizer.step()"
   ]
  },
  {
   "cell_type": "code",
   "execution_count": 98,
   "metadata": {},
   "outputs": [
    {
     "data": {
      "text/plain": [
       "tensor([1.8126, 1.9092, 1.7740, 1.8224, 1.8476], requires_grad=True)"
      ]
     },
     "execution_count": 98,
     "metadata": {},
     "output_type": "execute_result"
    }
   ],
   "source": [
    "type_weights"
   ]
  },
  {
   "cell_type": "code",
   "execution_count": null,
   "metadata": {},
   "outputs": [],
   "source": []
  }
 ],
 "metadata": {
  "kernelspec": {
   "display_name": "Python 3",
   "language": "python",
   "name": "python3"
  },
  "language_info": {
   "codemirror_mode": {
    "name": "ipython",
    "version": 3
   },
   "file_extension": ".py",
   "mimetype": "text/x-python",
   "name": "python",
   "nbconvert_exporter": "python",
   "pygments_lexer": "ipython3",
   "version": "3.7.3"
  }
 },
 "nbformat": 4,
 "nbformat_minor": 2
}
